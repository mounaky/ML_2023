{
  "nbformat": 4,
  "nbformat_minor": 0,
  "metadata": {
    "colab": {
      "provenance": [],
      "authorship_tag": "ABX9TyNvLV+y94ZogPR+QxdIEZU3",
      "include_colab_link": true
    },
    "kernelspec": {
      "name": "python3",
      "display_name": "Python 3"
    },
    "language_info": {
      "name": "python"
    }
  },
  "cells": [
    {
      "cell_type": "markdown",
      "metadata": {
        "id": "view-in-github",
        "colab_type": "text"
      },
      "source": [
        "<a href=\"https://colab.research.google.com/github/mounaky/ML_2023/blob/main/Pandas.ipynb\" target=\"_parent\"><img src=\"https://colab.research.google.com/assets/colab-badge.svg\" alt=\"Open In Colab\"/></a>"
      ]
    },
    {
      "cell_type": "code",
      "execution_count": null,
      "metadata": {
        "id": "y3wnz-s8mP4m"
      },
      "outputs": [],
      "source": [
        "#pandas : python library used for working  with data sets \n",
        "\n",
        "import numpy as  np\n",
        "import pandas as pd"
      ]
    },
    {
      "cell_type": "code",
      "source": [
        "#create a data frame\n",
        "\n",
        "my_data = np.array([[1,2],[3,4],[5,6]])\n",
        "print(my_data.shape)\n",
        "\n",
        "my_column_names =['x','y']\n",
        "\n",
        "my_dataframe = pd.DataFrame(data=my_data ,columns = my_column_names)\n",
        "                            \n",
        "print(my_dataframe)"
      ],
      "metadata": {
        "colab": {
          "base_uri": "https://localhost:8080/"
        },
        "id": "MeoG6vmVn9sp",
        "outputId": "bb6e4abe-c148-4f1b-fc31-eb53602289df"
      },
      "execution_count": null,
      "outputs": [
        {
          "output_type": "stream",
          "name": "stdout",
          "text": [
            "(3, 2)\n",
            "   x  y\n",
            "0  1  2\n",
            "1  3  4\n",
            "2  5  6\n"
          ]
        }
      ]
    },
    {
      "cell_type": "code",
      "source": [
        "my_data  = np.array([[1,2,3],[3,4,3],[5,6,7],[7,8,5]])\n",
        "print(my_data.shape)\n",
        "\n",
        "my_column_names= ['x','y','z']\n",
        "my_dataframe = pd.DataFrame(data=my_data ,columns = my_column_names)\n",
        "print(my_dataframe)\n"
      ],
      "metadata": {
        "id": "8VMqPWHapmMw",
        "colab": {
          "base_uri": "https://localhost:8080/"
        },
        "outputId": "5c872f4c-a95d-46b1-acde-c09d8d3ebff9"
      },
      "execution_count": null,
      "outputs": [
        {
          "output_type": "stream",
          "name": "stdout",
          "text": [
            "(4, 3)\n",
            "   x  y  z\n",
            "0  1  2  3\n",
            "1  3  4  3\n",
            "2  5  6  7\n",
            "3  7  8  5\n"
          ]
        }
      ]
    },
    {
      "cell_type": "code",
      "source": [
        "#adding addtional col using pandas\n",
        "\n",
        "my_data  = np.array([[1,2,3],[3,4,3],[5,6,7],[7,8,5]])\n",
        "print(my_data.shape)\n",
        "\n",
        "my_column_names= ['x','y','z']\n",
        "my_dataframe = pd.DataFrame(data=my_data ,columns = my_column_names)\n",
        "my_dataframe['a']= my_dataframe['x']+my_dataframe['y']+my_dataframe['z'] +3 # adds the additonal col \n",
        "print(my_dataframe)\n"
      ],
      "metadata": {
        "colab": {
          "base_uri": "https://localhost:8080/"
        },
        "id": "vdONbMnitgFU",
        "outputId": "7fb2d806-414d-4898-ffed-a0e85ec2d56a"
      },
      "execution_count": null,
      "outputs": [
        {
          "output_type": "stream",
          "name": "stdout",
          "text": [
            "(4, 3)\n",
            "   x  y  z   a\n",
            "0  1  2  3   9\n",
            "1  3  4  3  13\n",
            "2  5  6  7  21\n",
            "3  7  8  5  23\n"
          ]
        }
      ]
    },
    {
      "cell_type": "code",
      "source": [
        "my_data  = np.array([[1,2,3],[3,4,3],[5,6,7],[7,8,5]])\n",
        "print(my_data.shape)\n",
        "\n",
        "my_column_names= ['x','y','z']\n",
        "my_dataframe = pd.DataFrame(data=my_data ,columns = my_column_names)\n",
        "my_dataframe['a']= my_dataframe['x']+my_dataframe['y']+my_dataframe['z'] \n",
        "my_dataframe['b']=my_dataframe['x']+my_dataframe['y']+my_dataframe['a'] +3 #broadcasting method\n",
        "print(my_dataframe)"
      ],
      "metadata": {
        "id": "H8AU3YPavGtV",
        "colab": {
          "base_uri": "https://localhost:8080/"
        },
        "outputId": "7f703f76-0818-43e7-e96e-72061ff7ff08"
      },
      "execution_count": null,
      "outputs": [
        {
          "output_type": "stream",
          "name": "stdout",
          "text": [
            "(4, 3)\n",
            "   x  y  z   a   b\n",
            "0  1  2  3   6  12\n",
            "1  3  4  3  10  20\n",
            "2  5  6  7  18  32\n",
            "3  7  8  5  20  38\n"
          ]
        }
      ]
    },
    {
      "cell_type": "code",
      "source": [
        "df = pd.read_csv('/content/Book1.csv') #folder symbol-> upload symbol-> right click -> copy path.\n",
        "print(df)"
      ],
      "metadata": {
        "colab": {
          "base_uri": "https://localhost:8080/"
        },
        "id": "tGYUdv09xBru",
        "outputId": "ea3b20d7-129a-40ec-ac22-6b30ee9a8640"
      },
      "execution_count": null,
      "outputs": [
        {
          "output_type": "stream",
          "name": "stdout",
          "text": [
            "   col1  col2  col3\n",
            "0     1     2     3\n",
            "1     3     4     7\n",
            "2     5     6    11\n"
          ]
        }
      ]
    },
    {
      "cell_type": "code",
      "source": [
        "df = pd.read_csv('https://download.mlcc.google.com/mledu-datasets/california_housing_train.csv ')\n",
        "print(df)\n",
        "\n",
        "print(df.tail(10))\n",
        "print(df.head(10))\n",
        "\n",
        "df.drop_duplicates(inplace=True)\n"
      ],
      "metadata": {
        "id": "woa1TZsn0eLP",
        "colab": {
          "base_uri": "https://localhost:8080/"
        },
        "outputId": "3b440701-4df4-488a-e346-3dd1a50111ad"
      },
      "execution_count": null,
      "outputs": [
        {
          "output_type": "stream",
          "name": "stdout",
          "text": [
            "       longitude  latitude  housing_median_age  total_rooms  total_bedrooms  \\\n",
            "0        -114.31     34.19                15.0       5612.0          1283.0   \n",
            "1        -114.47     34.40                19.0       7650.0          1901.0   \n",
            "2        -114.56     33.69                17.0        720.0           174.0   \n",
            "3        -114.57     33.64                14.0       1501.0           337.0   \n",
            "4        -114.57     33.57                20.0       1454.0           326.0   \n",
            "...          ...       ...                 ...          ...             ...   \n",
            "16995    -124.26     40.58                52.0       2217.0           394.0   \n",
            "16996    -124.27     40.69                36.0       2349.0           528.0   \n",
            "16997    -124.30     41.84                17.0       2677.0           531.0   \n",
            "16998    -124.30     41.80                19.0       2672.0           552.0   \n",
            "16999    -124.35     40.54                52.0       1820.0           300.0   \n",
            "\n",
            "       population  households  median_income  median_house_value  \n",
            "0          1015.0       472.0         1.4936             66900.0  \n",
            "1          1129.0       463.0         1.8200             80100.0  \n",
            "2           333.0       117.0         1.6509             85700.0  \n",
            "3           515.0       226.0         3.1917             73400.0  \n",
            "4           624.0       262.0         1.9250             65500.0  \n",
            "...           ...         ...            ...                 ...  \n",
            "16995       907.0       369.0         2.3571            111400.0  \n",
            "16996      1194.0       465.0         2.5179             79000.0  \n",
            "16997      1244.0       456.0         3.0313            103600.0  \n",
            "16998      1298.0       478.0         1.9797             85800.0  \n",
            "16999       806.0       270.0         3.0147             94600.0  \n",
            "\n",
            "[17000 rows x 9 columns]\n",
            "       longitude  latitude  housing_median_age  total_rooms  total_bedrooms  \\\n",
            "16990    -124.22     41.73                28.0       3003.0           699.0   \n",
            "16991    -124.23     41.75                11.0       3159.0           616.0   \n",
            "16992    -124.23     40.81                52.0       1112.0           209.0   \n",
            "16993    -124.23     40.54                52.0       2694.0           453.0   \n",
            "16994    -124.25     40.28                32.0       1430.0           419.0   \n",
            "16995    -124.26     40.58                52.0       2217.0           394.0   \n",
            "16996    -124.27     40.69                36.0       2349.0           528.0   \n",
            "16997    -124.30     41.84                17.0       2677.0           531.0   \n",
            "16998    -124.30     41.80                19.0       2672.0           552.0   \n",
            "16999    -124.35     40.54                52.0       1820.0           300.0   \n",
            "\n",
            "       population  households  median_income  median_house_value  \n",
            "16990      1530.0       653.0         1.7038             78300.0  \n",
            "16991      1343.0       479.0         2.4805             73200.0  \n",
            "16992       544.0       172.0         3.3462             50800.0  \n",
            "16993      1152.0       435.0         3.0806            106700.0  \n",
            "16994       434.0       187.0         1.9417             76100.0  \n",
            "16995       907.0       369.0         2.3571            111400.0  \n",
            "16996      1194.0       465.0         2.5179             79000.0  \n",
            "16997      1244.0       456.0         3.0313            103600.0  \n",
            "16998      1298.0       478.0         1.9797             85800.0  \n",
            "16999       806.0       270.0         3.0147             94600.0  \n",
            "   longitude  latitude  housing_median_age  total_rooms  total_bedrooms  \\\n",
            "0    -114.31     34.19                15.0       5612.0          1283.0   \n",
            "1    -114.47     34.40                19.0       7650.0          1901.0   \n",
            "2    -114.56     33.69                17.0        720.0           174.0   \n",
            "3    -114.57     33.64                14.0       1501.0           337.0   \n",
            "4    -114.57     33.57                20.0       1454.0           326.0   \n",
            "5    -114.58     33.63                29.0       1387.0           236.0   \n",
            "6    -114.58     33.61                25.0       2907.0           680.0   \n",
            "7    -114.59     34.83                41.0        812.0           168.0   \n",
            "8    -114.59     33.61                34.0       4789.0          1175.0   \n",
            "9    -114.60     34.83                46.0       1497.0           309.0   \n",
            "\n",
            "   population  households  median_income  median_house_value  \n",
            "0      1015.0       472.0         1.4936             66900.0  \n",
            "1      1129.0       463.0         1.8200             80100.0  \n",
            "2       333.0       117.0         1.6509             85700.0  \n",
            "3       515.0       226.0         3.1917             73400.0  \n",
            "4       624.0       262.0         1.9250             65500.0  \n",
            "5       671.0       239.0         3.3438             74000.0  \n",
            "6      1841.0       633.0         2.6768             82400.0  \n",
            "7       375.0       158.0         1.7083             48500.0  \n",
            "8      3134.0      1056.0         2.1782             58400.0  \n",
            "9       787.0       271.0         2.1908             48100.0  \n"
          ]
        }
      ]
    },
    {
      "cell_type": "code",
      "source": [
        "df=pd.read_csv('/content/Book2.csv')\n",
        "print(df)\n",
        "\n",
        "df.dropna(inplace=True) \n",
        "print(df)      #remave the rows\n",
        "\n",
        "df.drop_duplicates(inplace=True)\n",
        "print(df)\n",
        "\n",
        "\n"
      ],
      "metadata": {
        "colab": {
          "base_uri": "https://localhost:8080/"
        },
        "id": "Kmt4h9ft_ysq",
        "outputId": "9fc0bb64-878d-4e68-d63f-7685d06ec1bf"
      },
      "execution_count": null,
      "outputs": [
        {
          "output_type": "stream",
          "name": "stdout",
          "text": [
            "    weight  height        BMI\n",
            "0       50     1.6  19.531250\n",
            "1       49     2.6   7.248521\n",
            "2       56     6.4   1.367188\n",
            "3       67     5.6   2.136480\n",
            "4       45     4.6   2.126654\n",
            "5       56     4.6   2.646503\n",
            "6       34     2.3   6.427221\n",
            "7       67     4.5   3.308642\n",
            "8       56     5.6   1.785714\n",
            "9       57     3.4   4.930796\n",
            "10      67     1.2  46.527778\n",
            "11      46     3.4   3.979239\n",
            "12      45     4.5   2.222222\n",
            "    weight  height        BMI\n",
            "0       50     1.6  19.531250\n",
            "1       49     2.6   7.248521\n",
            "2       56     6.4   1.367188\n",
            "3       67     5.6   2.136480\n",
            "4       45     4.6   2.126654\n",
            "5       56     4.6   2.646503\n",
            "6       34     2.3   6.427221\n",
            "7       67     4.5   3.308642\n",
            "8       56     5.6   1.785714\n",
            "9       57     3.4   4.930796\n",
            "10      67     1.2  46.527778\n",
            "11      46     3.4   3.979239\n",
            "12      45     4.5   2.222222\n",
            "    weight  height        BMI\n",
            "0       50     1.6  19.531250\n",
            "1       49     2.6   7.248521\n",
            "2       56     6.4   1.367188\n",
            "3       67     5.6   2.136480\n",
            "4       45     4.6   2.126654\n",
            "5       56     4.6   2.646503\n",
            "6       34     2.3   6.427221\n",
            "7       67     4.5   3.308642\n",
            "8       56     5.6   1.785714\n",
            "9       57     3.4   4.930796\n",
            "10      67     1.2  46.527778\n",
            "11      46     3.4   3.979239\n",
            "12      45     4.5   2.222222\n"
          ]
        }
      ]
    },
    {
      "cell_type": "code",
      "source": [
        "df = pd.DataFrame({\n",
        "     'col1':[1,2,3],\n",
        "     'col2':[4,5,6]\n",
        "})\n",
        "print(df)"
      ],
      "metadata": {
        "colab": {
          "base_uri": "https://localhost:8080/"
        },
        "id": "d3L9azlNCGlB",
        "outputId": "41a87340-87fa-41be-8443-b9ebbb54ce1a"
      },
      "execution_count": null,
      "outputs": [
        {
          "output_type": "stream",
          "name": "stdout",
          "text": [
            "   col1  col2\n",
            "0     1     4\n",
            "1     2     5\n",
            "2     3     6\n"
          ]
        }
      ]
    },
    {
      "cell_type": "code",
      "source": [
        "my_data  = pd.read_csv('bmi.csv')\n",
        "print(my_data)\n",
        "my_column_names= ['weight','height','BMI']\n",
        "my_dataframe = pd.DataFrame(data=my_data ,columns = my_column_names)\n",
        "my_dataframe['BMI']= my_dataframe['weight']/(my_dataframe['height']*my_dataframe['height'])\n",
        "print(my_dataframe)\n"
      ],
      "metadata": {
        "colab": {
          "base_uri": "https://localhost:8080/"
        },
        "id": "eYI7e6vDwkSv",
        "outputId": "a055e34c-8717-4753-e1a1-fca75c9056c4"
      },
      "execution_count": null,
      "outputs": [
        {
          "output_type": "stream",
          "name": "stdout",
          "text": [
            "    weight  height\n",
            "0       50     1.6\n",
            "1       49     2.6\n",
            "2       56     6.4\n",
            "3       67     5.6\n",
            "4       45     4.6\n",
            "5       56     4.6\n",
            "6       34     2.3\n",
            "7       67     4.5\n",
            "8       56     5.6\n",
            "9       57     3.4\n",
            "10      67     1.2\n",
            "11      46     3.4\n",
            "12      45     4.5\n",
            "    weight  height        BMI\n",
            "0       50     1.6  19.531250\n",
            "1       49     2.6   7.248521\n",
            "2       56     6.4   1.367187\n",
            "3       67     5.6   2.136480\n",
            "4       45     4.6   2.126654\n",
            "5       56     4.6   2.646503\n",
            "6       34     2.3   6.427221\n",
            "7       67     4.5   3.308642\n",
            "8       56     5.6   1.785714\n",
            "9       57     3.4   4.930796\n",
            "10      67     1.2  46.527778\n",
            "11      46     3.4   3.979239\n",
            "12      45     4.5   2.222222\n"
          ]
        }
      ]
    },
    {
      "cell_type": "code",
      "source": [
        "df=pd.read_csv('/content/Book2.csv')\n",
        "print(df)\n",
        "\n",
        "df.dropna(inplace=True)\n",
        "df.drop_duplicates(inplace=True)\n",
        "\n",
        "df['BMI']=df['weight']/((df['height'])**2)\n",
        "print(df)\n",
        "\n",
        "#next craete a col  called results and fill it with None\n",
        "#df ['result']=\n",
        "\n",
        "df=df.assign(Result=None) #create a empty result col\n",
        "print(df)\n",
        "\n",
        "#accessing BMI values row-wise\n",
        "\n",
        "#we need to get index for 1st col 'result' as well as value in 1st row of col 'BMI'\n",
        "\n",
        "#with below procedure, we cant accomplish it , hence make use of method iteritems\n",
        "#for i in df['BMI']:\n",
        "  #print('BMI')\n",
        "  #for j in range(0,len(df['BMI'])):\n",
        "   # if i<20:\n",
        "      #df[df.result] ='cat1'\n",
        "    #  pass\n",
        "for index, value in df['BMI'].iteritems(): #access the contents\n",
        "  if value<20:\n",
        "    df.at[index,'Result'] ='cat1'\n",
        "  elif value>=20 and value<21:\n",
        "    df.at[index,'Result'] ='cat2'\n",
        "  else:\n",
        "    df.at[index,'Result'] ='cat3'\n",
        "print(df)\n",
        "\n",
        "\n",
        "\n"
      ],
      "metadata": {
        "colab": {
          "base_uri": "https://localhost:8080/"
        },
        "id": "1TR6DEdLy0B3",
        "outputId": "371d0faa-5e5c-4397-a83e-bcf38daeb5c4"
      },
      "execution_count": null,
      "outputs": [
        {
          "output_type": "stream",
          "name": "stdout",
          "text": [
            "    weight  height        BMI\n",
            "0       50     1.6  19.531250\n",
            "1       49     2.6   7.248521\n",
            "2       56     6.4   1.367188\n",
            "3       67     5.6   2.136480\n",
            "4       45     4.6   2.126654\n",
            "5       56     4.6   2.646503\n",
            "6       34     2.3   6.427221\n",
            "7       67     4.5   3.308642\n",
            "8       56     5.6   1.785714\n",
            "9       57     3.4   4.930796\n",
            "10      67     1.2  46.527778\n",
            "11      46     3.4   3.979239\n",
            "12      45     4.5   2.222222\n",
            "    weight  height        BMI\n",
            "0       50     1.6  19.531250\n",
            "1       49     2.6   7.248521\n",
            "2       56     6.4   1.367187\n",
            "3       67     5.6   2.136480\n",
            "4       45     4.6   2.126654\n",
            "5       56     4.6   2.646503\n",
            "6       34     2.3   6.427221\n",
            "7       67     4.5   3.308642\n",
            "8       56     5.6   1.785714\n",
            "9       57     3.4   4.930796\n",
            "10      67     1.2  46.527778\n",
            "11      46     3.4   3.979239\n",
            "12      45     4.5   2.222222\n",
            "    weight  height        BMI Result\n",
            "0       50     1.6  19.531250   None\n",
            "1       49     2.6   7.248521   None\n",
            "2       56     6.4   1.367187   None\n",
            "3       67     5.6   2.136480   None\n",
            "4       45     4.6   2.126654   None\n",
            "5       56     4.6   2.646503   None\n",
            "6       34     2.3   6.427221   None\n",
            "7       67     4.5   3.308642   None\n",
            "8       56     5.6   1.785714   None\n",
            "9       57     3.4   4.930796   None\n",
            "10      67     1.2  46.527778   None\n",
            "11      46     3.4   3.979239   None\n",
            "12      45     4.5   2.222222   None\n",
            "    weight  height        BMI Result\n",
            "0       50     1.6  19.531250   cat1\n",
            "1       49     2.6   7.248521   cat1\n",
            "2       56     6.4   1.367187   cat1\n",
            "3       67     5.6   2.136480   cat1\n",
            "4       45     4.6   2.126654   cat1\n",
            "5       56     4.6   2.646503   cat1\n",
            "6       34     2.3   6.427221   cat1\n",
            "7       67     4.5   3.308642   cat1\n",
            "8       56     5.6   1.785714   cat1\n",
            "9       57     3.4   4.930796   cat1\n",
            "10      67     1.2  46.527778   cat3\n",
            "11      46     3.4   3.979239   cat1\n",
            "12      45     4.5   2.222222   cat1\n"
          ]
        }
      ]
    },
    {
      "cell_type": "code",
      "source": [],
      "metadata": {
        "id": "dV-MGPqm0-nj"
      },
      "execution_count": null,
      "outputs": []
    }
  ]
}