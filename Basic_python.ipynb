{
  "nbformat": 4,
  "nbformat_minor": 0,
  "metadata": {
    "colab": {
      "provenance": [],
      "authorship_tag": "ABX9TyMg3ptfFC1IAC7ZROReWGQA",
      "include_colab_link": true
    },
    "kernelspec": {
      "name": "python3",
      "display_name": "Python 3"
    },
    "language_info": {
      "name": "python"
    }
  },
  "cells": [
    {
      "cell_type": "markdown",
      "metadata": {
        "id": "view-in-github",
        "colab_type": "text"
      },
      "source": [
        "<a href=\"https://colab.research.google.com/github/mounaky/ML_2023/blob/main/Basic_python.ipynb\" target=\"_parent\"><img src=\"https://colab.research.google.com/assets/colab-badge.svg\" alt=\"Open In Colab\"/></a>"
      ]
    },
    {
      "cell_type": "code",
      "execution_count": null,
      "metadata": {
        "id": "7xxIk5ZPFYe9"
      },
      "outputs": [],
      "source": []
    },
    {
      "cell_type": "markdown",
      "source": [
        "Bassics of python\n"
      ],
      "metadata": {
        "id": "ky9lQTQ3F8YW"
      }
    },
    {
      "cell_type": "code",
      "source": [
        "print(\"Hello World\")"
      ],
      "metadata": {
        "colab": {
          "base_uri": "https://localhost:8080/"
        },
        "id": "zSxrUWcsGB0d",
        "outputId": "86157243-aa53-4bbf-d731-a3be51d11bc4"
      },
      "execution_count": null,
      "outputs": [
        {
          "output_type": "stream",
          "name": "stdout",
          "text": [
            "Hello World\n"
          ]
        }
      ]
    },
    {
      "cell_type": "code",
      "source": [
        "print(\"Hello \\n World\")"
      ],
      "metadata": {
        "colab": {
          "base_uri": "https://localhost:8080/"
        },
        "id": "TLRMjkL0F_3Q",
        "outputId": "eaa56123-6a0e-4f09-e69f-f9d5521b79c0"
      },
      "execution_count": null,
      "outputs": [
        {
          "output_type": "stream",
          "name": "stdout",
          "text": [
            "Hello \n",
            " World\n"
          ]
        }
      ]
    },
    {
      "cell_type": "code",
      "source": [
        "print(\"hello \\\\n world\")"
      ],
      "metadata": {
        "colab": {
          "base_uri": "https://localhost:8080/"
        },
        "id": "Y03Tw_72HP_M",
        "outputId": "fee9b19d-f9b7-4879-c89c-7e09a7ca2915"
      },
      "execution_count": null,
      "outputs": [
        {
          "output_type": "stream",
          "name": "stdout",
          "text": [
            "hello \\n world\n"
          ]
        }
      ]
    },
    {
      "cell_type": "code",
      "source": [
        "print(\"First Line\\nSecond Line\\nThird Line\")"
      ],
      "metadata": {
        "colab": {
          "base_uri": "https://localhost:8080/"
        },
        "id": "MXnspD7KHZZC",
        "outputId": "14d1c946-0a24-436c-e4d5-f0f5912d73dc"
      },
      "execution_count": null,
      "outputs": [
        {
          "output_type": "stream",
          "name": "stdout",
          "text": [
            "First Line\n",
            "Second Line\n",
            "Third Line\n"
          ]
        }
      ]
    },
    {
      "cell_type": "code",
      "source": [
        "print('''First line\n",
        "Second line\n",
        "Third line''')"
      ],
      "metadata": {
        "colab": {
          "base_uri": "https://localhost:8080/"
        },
        "id": "dFXQryPYITWb",
        "outputId": "a9638197-cdfa-4e76-fd34-4a196369faba"
      },
      "execution_count": null,
      "outputs": [
        {
          "output_type": "stream",
          "name": "stdout",
          "text": [
            "First line\n",
            "Second line\n",
            "Third line\n"
          ]
        }
      ]
    },
    {
      "cell_type": "code",
      "source": [
        "print(\"\"\"First line\n",
        "second Line\n",
        "third line\"\"\")"
      ],
      "metadata": {
        "colab": {
          "base_uri": "https://localhost:8080/"
        },
        "id": "zZE_hZWIImUa",
        "outputId": "9a81e035-33cf-42b0-c9b6-17bf06ca41e1"
      },
      "execution_count": null,
      "outputs": [
        {
          "output_type": "stream",
          "name": "stdout",
          "text": [
            "First line\n",
            "second Line\n",
            "third line\n"
          ]
        }
      ]
    },
    {
      "cell_type": "code",
      "source": [
        "print('hello','world', sep='---')\n",
        "print('hello','world', sep='\\t')\n",
        "print('hello','world', sep='\\n')"
      ],
      "metadata": {
        "colab": {
          "base_uri": "https://localhost:8080/"
        },
        "id": "gPZrxTwLJJ5K",
        "outputId": "d9b8de56-eafd-4870-f3ea-8cb5ad6f3ec7"
      },
      "execution_count": null,
      "outputs": [
        {
          "output_type": "stream",
          "name": "stdout",
          "text": [
            "hello---world\n",
            "hello\tworld\n",
            "hello\n",
            "world\n"
          ]
        }
      ]
    },
    {
      "cell_type": "code",
      "source": [
        "10-10*2"
      ],
      "metadata": {
        "colab": {
          "base_uri": "https://localhost:8080/"
        },
        "id": "dgPxTaVdJpzU",
        "outputId": "f2a3d6e0-d290-4bd1-d479-c92f6d7ae6e4"
      },
      "execution_count": null,
      "outputs": [
        {
          "output_type": "execute_result",
          "data": {
            "text/plain": [
              "-10"
            ]
          },
          "metadata": {},
          "execution_count": 13
        }
      ]
    },
    {
      "cell_type": "code",
      "source": [
        "print(10-5*2)"
      ],
      "metadata": {
        "colab": {
          "base_uri": "https://localhost:8080/"
        },
        "id": "fCEKxU2NJ2FP",
        "outputId": "94928562-e74e-451a-b4fa-df75fec9ba6d"
      },
      "execution_count": null,
      "outputs": [
        {
          "output_type": "stream",
          "name": "stdout",
          "text": [
            "0\n"
          ]
        }
      ]
    },
    {
      "cell_type": "code",
      "source": [
        "10%6"
      ],
      "metadata": {
        "colab": {
          "base_uri": "https://localhost:8080/"
        },
        "id": "X9zaqxHPKCTE",
        "outputId": "9d23aad5-d169-49c5-9d3a-6530bf989c4f"
      },
      "execution_count": null,
      "outputs": [
        {
          "output_type": "execute_result",
          "data": {
            "text/plain": [
              "4"
            ]
          },
          "metadata": {},
          "execution_count": 15
        }
      ]
    },
    {
      "cell_type": "code",
      "source": [
        "3//2"
      ],
      "metadata": {
        "colab": {
          "base_uri": "https://localhost:8080/"
        },
        "id": "seOJmvLKKHHk",
        "outputId": "b60ea273-5fc1-4173-c51e-31c66a59a003"
      },
      "execution_count": null,
      "outputs": [
        {
          "output_type": "execute_result",
          "data": {
            "text/plain": [
              "1"
            ]
          },
          "metadata": {},
          "execution_count": 16
        }
      ]
    },
    {
      "cell_type": "code",
      "source": [
        "3/2\n",
        "\n"
      ],
      "metadata": {
        "colab": {
          "base_uri": "https://localhost:8080/"
        },
        "id": "MrVlP0MsKQPf",
        "outputId": "0f305d4d-7747-44af-e435-12d992b3b60b"
      },
      "execution_count": null,
      "outputs": [
        {
          "output_type": "execute_result",
          "data": {
            "text/plain": [
              "1.5"
            ]
          },
          "metadata": {},
          "execution_count": 17
        }
      ]
    },
    {
      "cell_type": "code",
      "source": [
        "round(1.5)"
      ],
      "metadata": {
        "colab": {
          "base_uri": "https://localhost:8080/"
        },
        "id": "Rb182FrKKXrL",
        "outputId": "b3e57fa1-d7f9-4a14-c700-a3d923083941"
      },
      "execution_count": null,
      "outputs": [
        {
          "output_type": "execute_result",
          "data": {
            "text/plain": [
              "2"
            ]
          },
          "metadata": {},
          "execution_count": 18
        }
      ]
    },
    {
      "cell_type": "code",
      "source": [
        "round(1.5555,2)"
      ],
      "metadata": {
        "colab": {
          "base_uri": "https://localhost:8080/"
        },
        "id": "QsMDo3m-LHCK",
        "outputId": "56def960-7b92-422f-d681-58814ac972c7"
      },
      "execution_count": null,
      "outputs": [
        {
          "output_type": "execute_result",
          "data": {
            "text/plain": [
              "1.56"
            ]
          },
          "metadata": {},
          "execution_count": 19
        }
      ]
    },
    {
      "cell_type": "code",
      "source": [],
      "metadata": {
        "id": "edCHLPl-LTLf"
      },
      "execution_count": null,
      "outputs": []
    },
    {
      "cell_type": "markdown",
      "source": [
        "2 to the power of 3\n"
      ],
      "metadata": {
        "id": "p4o6_MUDLbxJ"
      }
    },
    {
      "cell_type": "code",
      "source": [
        "2**3"
      ],
      "metadata": {
        "colab": {
          "base_uri": "https://localhost:8080/"
        },
        "id": "xr6lIkZoLf51",
        "outputId": "0b28536a-d562-442d-96ba-5196a176a5bc"
      },
      "execution_count": null,
      "outputs": [
        {
          "output_type": "execute_result",
          "data": {
            "text/plain": [
              "8"
            ]
          },
          "metadata": {},
          "execution_count": 20
        }
      ]
    },
    {
      "cell_type": "code",
      "source": [],
      "metadata": {
        "id": "j_g4hLIgLy4c"
      },
      "execution_count": null,
      "outputs": []
    },
    {
      "cell_type": "markdown",
      "source": [
        "variables"
      ],
      "metadata": {
        "id": "J41sWJQjMUqa"
      }
    },
    {
      "cell_type": "code",
      "source": [
        "_variables = 0\n",
        "variable=0\n",
        "variable1=0"
      ],
      "metadata": {
        "id": "meE-dRjAMY2c"
      },
      "execution_count": null,
      "outputs": []
    },
    {
      "cell_type": "markdown",
      "source": [
        "two variables "
      ],
      "metadata": {
        "id": "21zAMm7gMl0U"
      }
    },
    {
      "cell_type": "code",
      "source": [
        "FirstSecond=0\n",
        "First_Second=0"
      ],
      "metadata": {
        "id": "zkBH_Np5Mofj"
      },
      "execution_count": null,
      "outputs": []
    },
    {
      "cell_type": "code",
      "source": [
        "a=b=c=1"
      ],
      "metadata": {
        "id": "2aBSQ_akMxuc"
      },
      "execution_count": null,
      "outputs": []
    },
    {
      "cell_type": "code",
      "source": [
        "print(a,b,c)"
      ],
      "metadata": {
        "colab": {
          "base_uri": "https://localhost:8080/"
        },
        "id": "Gbt2XgWDNTkc",
        "outputId": "bef37e22-e4db-4c0e-dfd1-474509d14b44"
      },
      "execution_count": null,
      "outputs": [
        {
          "output_type": "stream",
          "name": "stdout",
          "text": [
            "1 1 1\n"
          ]
        }
      ]
    },
    {
      "cell_type": "markdown",
      "source": [
        "reading input"
      ],
      "metadata": {
        "id": "MV8H43tHNb0B"
      }
    },
    {
      "cell_type": "code",
      "source": [
        "a= input()"
      ],
      "metadata": {
        "colab": {
          "base_uri": "https://localhost:8080/"
        },
        "id": "ISDk4qXCNgL1",
        "outputId": "03574749-cbed-4a55-b89d-d2a370978a83"
      },
      "execution_count": null,
      "outputs": [
        {
          "name": "stdout",
          "output_type": "stream",
          "text": [
            "3\n"
          ]
        }
      ]
    },
    {
      "cell_type": "code",
      "source": [
        "a=input(\"enter a number: \" )"
      ],
      "metadata": {
        "colab": {
          "base_uri": "https://localhost:8080/"
        },
        "id": "kvZWWF1JNn18",
        "outputId": "4679f866-a572-4a7b-a570-22bb7ed6eb45"
      },
      "execution_count": null,
      "outputs": [
        {
          "name": "stdout",
          "output_type": "stream",
          "text": [
            "enter a number: 22\n"
          ]
        }
      ]
    },
    {
      "cell_type": "code",
      "source": [
        "\n",
        "print(type(a))"
      ],
      "metadata": {
        "colab": {
          "base_uri": "https://localhost:8080/"
        },
        "id": "mR3Nz7meOKn0",
        "outputId": "9a43a14d-e95f-4e47-cb4c-1c18153267cf"
      },
      "execution_count": null,
      "outputs": [
        {
          "output_type": "stream",
          "name": "stdout",
          "text": [
            "<class 'str'>\n"
          ]
        }
      ]
    },
    {
      "cell_type": "markdown",
      "source": [
        "read 3 vcalues from the user which consists integer as well as decimal\n",
        "print type of data for all 3 values\n",
        "later convert it into integer and floating point number resp... "
      ],
      "metadata": {
        "id": "cMz-gjHRPFEj"
      }
    },
    {
      "cell_type": "code",
      "source": [
        "a = int(input(\"enter first number : \"))\n",
        "b = int(input(\"enter Second number : \"))\n",
        "c = int(input(\"enter third number : \"))\n",
        "\n",
        "print(type(a),type(b),type(c))\n",
        "\n",
        "a=int(a)\n",
        "print(type(a))"
      ],
      "metadata": {
        "colab": {
          "base_uri": "https://localhost:8080/"
        },
        "id": "4P7fak5cPEiH",
        "outputId": "1176e675-b5f8-481e-cac0-401186ff839c"
      },
      "execution_count": null,
      "outputs": [
        {
          "output_type": "stream",
          "name": "stdout",
          "text": [
            "enter first number : 1\n",
            "enter Second number : 2\n",
            "enter third number : 3\n",
            "<class 'int'> <class 'int'> <class 'int'>\n",
            "<class 'int'>\n"
          ]
        }
      ]
    },
    {
      "cell_type": "code",
      "source": [
        "a = 'hello'\n",
        "print(type(a))\n",
        "print(a)"
      ],
      "metadata": {
        "colab": {
          "base_uri": "https://localhost:8080/"
        },
        "id": "bgWpOXIvP2Ni",
        "outputId": "5f01430d-fe0f-4195-b1de-4dab2b90ea10"
      },
      "execution_count": null,
      "outputs": [
        {
          "output_type": "stream",
          "name": "stdout",
          "text": [
            "<class 'str'>\n",
            "hello\n"
          ]
        }
      ]
    },
    {
      "cell_type": "code",
      "source": [],
      "metadata": {
        "id": "qPgOQWVOSkkr"
      },
      "execution_count": null,
      "outputs": []
    },
    {
      "cell_type": "markdown",
      "source": [
        "a = Hello print o a = world print c\n"
      ],
      "metadata": {
        "id": "sAAf6Qy_TEAQ"
      }
    },
    {
      "cell_type": "code",
      "source": [
        "a = input(\"enter a string \")\n",
        "print(a[4])"
      ],
      "metadata": {
        "colab": {
          "base_uri": "https://localhost:8080/"
        },
        "id": "iUAnc0I3TQK-",
        "outputId": "640be146-4854-4138-8208-61d80134ae31"
      },
      "execution_count": null,
      "outputs": [
        {
          "output_type": "stream",
          "name": "stdout",
          "text": [
            "enter a string helloworld\n",
            "o\n"
          ]
        }
      ]
    },
    {
      "cell_type": "code",
      "source": [
        "a = input(\"enter a string \")\n",
        "print(a[-2])"
      ],
      "metadata": {
        "colab": {
          "base_uri": "https://localhost:8080/"
        },
        "id": "-gWpvQx2Tjbt",
        "outputId": "ec8d3488-625a-45e9-a47f-d92dd12a495c"
      },
      "execution_count": null,
      "outputs": [
        {
          "output_type": "stream",
          "name": "stdout",
          "text": [
            "enter a string helloworld\n",
            "l\n"
          ]
        }
      ]
    },
    {
      "cell_type": "code",
      "source": [
        "length_str=len(a)\n",
        "print(length_str)"
      ],
      "metadata": {
        "colab": {
          "base_uri": "https://localhost:8080/"
        },
        "id": "6rVqg7r-UX5E",
        "outputId": "a2aac6d6-87e8-463b-c136-c1815f8e8485"
      },
      "execution_count": null,
      "outputs": [
        {
          "output_type": "stream",
          "name": "stdout",
          "text": [
            "10\n"
          ]
        }
      ]
    },
    {
      "cell_type": "code",
      "source": [
        "length_str=len(a)\n",
        "print(a[length_str-1])"
      ],
      "metadata": {
        "colab": {
          "base_uri": "https://localhost:8080/"
        },
        "id": "LZqZx33KVGfK",
        "outputId": "546724c0-c2df-45d1-c0d5-a0e8bfb2fe31"
      },
      "execution_count": null,
      "outputs": [
        {
          "output_type": "stream",
          "name": "stdout",
          "text": [
            "d\n"
          ]
        }
      ]
    },
    {
      "cell_type": "code",
      "source": [
        "print(a[0:4])"
      ],
      "metadata": {
        "colab": {
          "base_uri": "https://localhost:8080/"
        },
        "id": "kBQMmjSiVYtI",
        "outputId": "6fd2ef98-a27d-4b74-8e63-0896e532f301"
      },
      "execution_count": null,
      "outputs": [
        {
          "output_type": "stream",
          "name": "stdout",
          "text": [
            "hell\n"
          ]
        }
      ]
    },
    {
      "cell_type": "code",
      "source": [
        "a=input(\"enter a string  \" )\n",
        "print(a[::-1])"
      ],
      "metadata": {
        "colab": {
          "base_uri": "https://localhost:8080/"
        },
        "id": "FfoSf6foVjbb",
        "outputId": "2a4d4454-c65b-45ed-dc51-03e13d951e9c"
      },
      "execution_count": null,
      "outputs": [
        {
          "output_type": "stream",
          "name": "stdout",
          "text": [
            "enter a string  mou\n",
            "uom\n"
          ]
        }
      ]
    },
    {
      "cell_type": "code",
      "source": [
        "a=input(\"enter a string  \" )\n",
        "print(a[0::-1])"
      ],
      "metadata": {
        "colab": {
          "base_uri": "https://localhost:8080/"
        },
        "id": "ro-05tmIV_fI",
        "outputId": "3093ae52-ca0e-449f-8171-2b56324cf9eb"
      },
      "execution_count": null,
      "outputs": [
        {
          "output_type": "stream",
          "name": "stdout",
          "text": [
            "enter a string  mouna\n",
            "m\n"
          ]
        }
      ]
    },
    {
      "cell_type": "code",
      "source": [],
      "metadata": {
        "id": "Rmy0S8KwbIUD"
      },
      "execution_count": null,
      "outputs": []
    },
    {
      "cell_type": "markdown",
      "source": [
        "string slicing with step size"
      ],
      "metadata": {
        "id": "fW_DCnJ5bJJM"
      }
    },
    {
      "cell_type": "code",
      "source": [
        "str2 ='helloworld'\n",
        "print(str2[::2])"
      ],
      "metadata": {
        "colab": {
          "base_uri": "https://localhost:8080/"
        },
        "id": "MSNM4uD5bTgD",
        "outputId": "04ce783a-a993-4778-bcc8-7f1eae2c7249"
      },
      "execution_count": null,
      "outputs": [
        {
          "output_type": "stream",
          "name": "stdout",
          "text": [
            "hlool\n"
          ]
        }
      ]
    },
    {
      "cell_type": "markdown",
      "source": [
        "prgm to check if a given string is palindrome"
      ],
      "metadata": {
        "id": "GqHpbmzAb3NW"
      }
    },
    {
      "cell_type": "code",
      "source": [
        "str1=input(\"enter a string \")\n",
        "str2=str1[::-1]\n",
        "print(str1==str2)"
      ],
      "metadata": {
        "colab": {
          "base_uri": "https://localhost:8080/"
        },
        "id": "DCx525S-bqup",
        "outputId": "595c519a-0a71-453e-9f34-15710bb9e725"
      },
      "execution_count": null,
      "outputs": [
        {
          "output_type": "stream",
          "name": "stdout",
          "text": [
            "enter a string mouna\n",
            "False\n"
          ]
        }
      ]
    },
    {
      "cell_type": "code",
      "source": [
        "str1=input(\"enter a string \")\n",
        "str2=str1[::-1]\n",
        "print(str1==str2)"
      ],
      "metadata": {
        "colab": {
          "base_uri": "https://localhost:8080/"
        },
        "id": "xTteyQBhcpt3",
        "outputId": "ca44835b-6aa3-400e-8fda-f53daf86024e"
      },
      "execution_count": null,
      "outputs": [
        {
          "output_type": "stream",
          "name": "stdout",
          "text": [
            "enter a string Mom\n",
            "False\n"
          ]
        }
      ]
    },
    {
      "cell_type": "code",
      "source": [
        "str1=input(\"enter a string \")\n",
        "str1=str1.casefold() #lower()\n",
        "print(str1)\n",
        "str2=str1[::-1]\n",
        "print(str1==str2)"
      ],
      "metadata": {
        "colab": {
          "base_uri": "https://localhost:8080/"
        },
        "id": "zwxX7eqBdeI-",
        "outputId": "4113f5de-e436-4e8c-f275-2a2a88b95cbc"
      },
      "execution_count": null,
      "outputs": [
        {
          "output_type": "stream",
          "name": "stdout",
          "text": [
            "enter a string MOUN\n",
            "moun\n",
            "False\n"
          ]
        }
      ]
    },
    {
      "cell_type": "code",
      "source": [
        "str1=input(\"enter a string \")\n",
        "str1=str1.upper() #capitalize() \n",
        "print(str1)\n",
        "str2=str1[::-1]\n",
        "print(str1==str2)"
      ],
      "metadata": {
        "colab": {
          "base_uri": "https://localhost:8080/"
        },
        "id": "iIrIRIiod6Kr",
        "outputId": "1d664441-da8a-4783-ebbc-3495e9594a84"
      },
      "execution_count": null,
      "outputs": [
        {
          "output_type": "stream",
          "name": "stdout",
          "text": [
            "enter a string dacf\n",
            "DACF\n",
            "False\n"
          ]
        }
      ]
    },
    {
      "cell_type": "code",
      "source": [
        "print(dir(str2))"
      ],
      "metadata": {
        "colab": {
          "base_uri": "https://localhost:8080/"
        },
        "id": "h0cQoLEReDfJ",
        "outputId": "e0152d82-072d-4e94-c53b-a83f313bf5f0"
      },
      "execution_count": null,
      "outputs": [
        {
          "output_type": "stream",
          "name": "stdout",
          "text": [
            "['__add__', '__class__', '__contains__', '__delattr__', '__dir__', '__doc__', '__eq__', '__format__', '__ge__', '__getattribute__', '__getitem__', '__getnewargs__', '__gt__', '__hash__', '__init__', '__init_subclass__', '__iter__', '__le__', '__len__', '__lt__', '__mod__', '__mul__', '__ne__', '__new__', '__reduce__', '__reduce_ex__', '__repr__', '__rmod__', '__rmul__', '__setattr__', '__sizeof__', '__str__', '__subclasshook__', 'capitalize', 'casefold', 'center', 'count', 'encode', 'endswith', 'expandtabs', 'find', 'format', 'format_map', 'index', 'isalnum', 'isalpha', 'isascii', 'isdecimal', 'isdigit', 'isidentifier', 'islower', 'isnumeric', 'isprintable', 'isspace', 'istitle', 'isupper', 'join', 'ljust', 'lower', 'lstrip', 'maketrans', 'partition', 'replace', 'rfind', 'rindex', 'rjust', 'rpartition', 'rsplit', 'rstrip', 'split', 'splitlines', 'startswith', 'strip', 'swapcase', 'title', 'translate', 'upper', 'zfill']\n"
          ]
        }
      ]
    },
    {
      "cell_type": "code",
      "source": [
        "#my age is xx\n",
        "age =(input(\"enter your age\"))\n",
        "print(\"my age is\" +age)"
      ],
      "metadata": {
        "colab": {
          "base_uri": "https://localhost:8080/"
        },
        "id": "ewDKuSmJelGX",
        "outputId": "ad3fa5e7-f4a7-4c8f-d409-505c18366157"
      },
      "execution_count": null,
      "outputs": [
        {
          "output_type": "stream",
          "name": "stdout",
          "text": [
            "enter your age52\n",
            "my age is52\n"
          ]
        }
      ]
    },
    {
      "cell_type": "code",
      "source": [
        "#your order for 10 quantities of produt_name priced at 1000 is confirmed quantity ,product name,price\n",
        "\n",
        "quantity =10\n",
        "product_name ='product_B'\n",
        "price =1000\n",
        "print(\"your product is +str(quantity)+str(product_name)+str(price)\")\n"
      ],
      "metadata": {
        "colab": {
          "base_uri": "https://localhost:8080/"
        },
        "id": "7CtfOAPYekbU",
        "outputId": "9775a8a4-8f2d-4436-b809-d052be6d871c"
      },
      "execution_count": null,
      "outputs": [
        {
          "output_type": "stream",
          "name": "stdout",
          "text": [
            "your product is +str(quantity)+str(product_name)+str(price)\n"
          ]
        }
      ]
    },
    {
      "cell_type": "code",
      "source": [
        "print(f'your orde for {quantity} of {product_name} priced at {price} is confirmed')"
      ],
      "metadata": {
        "colab": {
          "base_uri": "https://localhost:8080/"
        },
        "id": "MAmSYY9yiiQv",
        "outputId": "8f7d51f9-7979-49b5-e38f-20edea259dae"
      },
      "execution_count": null,
      "outputs": [
        {
          "output_type": "stream",
          "name": "stdout",
          "text": [
            "your orde for 10 of product_B priced at 1000 is confirmed\n"
          ]
        }
      ]
    },
    {
      "cell_type": "code",
      "source": [
        "#My name is,I'm of age \"studying in * branch *sem,*(college)\"\n",
        "\n",
        "name=input(\"enter the name: \")\n",
        "age=input(\"enter the name: \")\n",
        "sem=input(\"enter the name: \")\n",
        "branch=input(\"enter the name: \")\n",
        "college=input(\"enter the name: \")\n",
        "\n",
        "print(f'My name is {name} of {age} years ,studting in {branch},{college}')"
      ],
      "metadata": {
        "colab": {
          "base_uri": "https://localhost:8080/"
        },
        "id": "Jj7bxLJ7joPg",
        "outputId": "45000f40-828f-4a25-ba15-81f7a2d6cac9"
      },
      "execution_count": null,
      "outputs": [
        {
          "output_type": "stream",
          "name": "stdout",
          "text": [
            "enter the name: mouna\n",
            "enter the name: 22\n",
            "enter the name: 7\n",
            "enter the name: cse\n",
            "enter the name: AIT\n",
            "My name is mouna of 22 years ,studting in cse,AIT\n"
          ]
        }
      ]
    },
    {
      "cell_type": "code",
      "source": [
        "print(\"hello\"=='hello')"
      ],
      "metadata": {
        "colab": {
          "base_uri": "https://localhost:8080/"
        },
        "id": "EnG_rVg-jlQ9",
        "outputId": "3b35cea1-b1aa-4421-906f-f8472be65e20"
      },
      "execution_count": null,
      "outputs": [
        {
          "output_type": "stream",
          "name": "stdout",
          "text": [
            "True\n"
          ]
        }
      ]
    },
    {
      "cell_type": "code",
      "source": [
        "#conditional statements\n",
        "\n",
        "#if else\n",
        "x=input()\n",
        "y=input()\n",
        "\n",
        "if x>y:\n",
        "  print(\"x is greater than y\")\n",
        "else:\n",
        "  print(\"y is greater than x\")"
      ],
      "metadata": {
        "colab": {
          "base_uri": "https://localhost:8080/"
        },
        "id": "EnH5RVEwmI_a",
        "outputId": "374f4273-b320-4bb1-ef28-840537b17bec"
      },
      "execution_count": null,
      "outputs": [
        {
          "output_type": "stream",
          "name": "stdout",
          "text": [
            "10\n",
            "11\n",
            "y is greater than x\n"
          ]
        }
      ]
    },
    {
      "cell_type": "code",
      "source": [
        "x=int(input('x: '))\n",
        "y=int(input('y:'))\n",
        "\n",
        "if x>y :\n",
        "  print(f'{x} is greater than {y}')\n",
        "elif x==y:\n",
        "  print(f'{x} is equal to{y}')\n",
        "else:\n",
        "  print(f'{y} is greater than {x}')     #else :\n",
        "                                           # print(f'{x}={y}')"
      ],
      "metadata": {
        "colab": {
          "base_uri": "https://localhost:8080/"
        },
        "id": "i1AKXZrsnHMk",
        "outputId": "98d2dc60-2025-4de6-86e1-61850390d3ff"
      },
      "execution_count": null,
      "outputs": [
        {
          "output_type": "stream",
          "name": "stdout",
          "text": [
            "x: 20\n",
            "y:20\n",
            "20 is equal to20\n"
          ]
        }
      ]
    },
    {
      "cell_type": "code",
      "source": [
        "#display all the two digit numbers where the number and its reverse are divisible by 3\n",
        "\n",
        "for i in range(10,100):\n",
        "  temp=str(i)\n",
        "  rev=int(temp[1]+temp[0])\n",
        "  if i%3==0 and rev%3==0:\n",
        "     print(i, end=' ')"
      ],
      "metadata": {
        "id": "BIthDX6Sqn8H",
        "colab": {
          "base_uri": "https://localhost:8080/"
        },
        "outputId": "e3395eb4-4e6b-4b4c-8396-23f12ceb29ee"
      },
      "execution_count": null,
      "outputs": [
        {
          "output_type": "stream",
          "name": "stdout",
          "text": [
            "12 15 18 21 24 27 30 33 36 39 42 45 48 51 54 57 60 63 66 69 72 75 78 81 84 87 90 93 96 99 "
          ]
        }
      ]
    },
    {
      "cell_type": "code",
      "source": [
        "#write a pgm to find the highest common factor of 2 numbers\n",
        "\n",
        "import math\n",
        "print(math.gcd(10,34))\n",
        " "
      ],
      "metadata": {
        "colab": {
          "base_uri": "https://localhost:8080/"
        },
        "id": "mytnX-oWS6D9",
        "outputId": "7c3b88a6-e0b6-4826-a12a-8740c9f59430"
      },
      "execution_count": null,
      "outputs": [
        {
          "output_type": "stream",
          "name": "stdout",
          "text": [
            "2\n"
          ]
        }
      ]
    },
    {
      "cell_type": "code",
      "source": [
        "num1=int(input('num1: '))\n",
        "num2=int(input('num2: '))\n",
        "\n",
        "if num1>num2:\n",
        "  smallest=num2\n",
        "else:\n",
        "  smallest=num1\n",
        "\n",
        "  for i in range(1,smallest+1): #2 -> 1,2\n",
        "    if num1%i==0 and num2%i==0:\n",
        "      hcf=i\n",
        "\n",
        "print(f'HCF = {hcf}')"
      ],
      "metadata": {
        "colab": {
          "base_uri": "https://localhost:8080/"
        },
        "id": "cK-KxAsGVZ8Z",
        "outputId": "dae48b60-cd9c-491b-c2b6-f251358162cc"
      },
      "execution_count": null,
      "outputs": [
        {
          "output_type": "stream",
          "name": "stdout",
          "text": [
            "num1: 2\n",
            "num2: 4\n",
            "HCF = 2\n"
          ]
        }
      ]
    },
    {
      "cell_type": "code",
      "source": [
        "#lists\n",
        "l1=['a','b','c',1]\n",
        "print(l1)\n",
        "print(type(l1))"
      ],
      "metadata": {
        "colab": {
          "base_uri": "https://localhost:8080/"
        },
        "id": "Sxinlt06aRCQ",
        "outputId": "9376a073-5875-4027-e2d9-d407fa053974"
      },
      "execution_count": null,
      "outputs": [
        {
          "output_type": "stream",
          "name": "stdout",
          "text": [
            "['a', 'b', 'c', 1]\n",
            "<class 'list'>\n"
          ]
        }
      ]
    },
    {
      "cell_type": "code",
      "source": [
        "print(l1[:2])"
      ],
      "metadata": {
        "colab": {
          "base_uri": "https://localhost:8080/"
        },
        "id": "rpT8RZY9amqH",
        "outputId": "d9249eb2-cac7-4a3d-dc6c-b6c749be61be"
      },
      "execution_count": null,
      "outputs": [
        {
          "output_type": "stream",
          "name": "stdout",
          "text": [
            "['a', 'b']\n"
          ]
        }
      ]
    },
    {
      "cell_type": "code",
      "source": [
        "print(l1[1:])"
      ],
      "metadata": {
        "colab": {
          "base_uri": "https://localhost:8080/"
        },
        "id": "n0eg6kKTarsl",
        "outputId": "c183b0c4-d7b0-42d9-a7bf-032ab0046933"
      },
      "execution_count": null,
      "outputs": [
        {
          "output_type": "stream",
          "name": "stdout",
          "text": [
            "['b', 'c', 1]\n"
          ]
        }
      ]
    },
    {
      "cell_type": "code",
      "source": [
        "print(l1[2:])"
      ],
      "metadata": {
        "colab": {
          "base_uri": "https://localhost:8080/"
        },
        "id": "PyaYm_hSax0i",
        "outputId": "a97d17c1-44eb-4509-f731-3d58aaab1fa9"
      },
      "execution_count": null,
      "outputs": [
        {
          "output_type": "stream",
          "name": "stdout",
          "text": [
            "['c', 1]\n"
          ]
        }
      ]
    },
    {
      "cell_type": "code",
      "source": [
        "l1=[1,2,3,'a','b','c']\n",
        "print(l1[0::2])"
      ],
      "metadata": {
        "colab": {
          "base_uri": "https://localhost:8080/"
        },
        "id": "BUoIivpla17P",
        "outputId": "2e7595f6-9239-41ed-d13a-3caaa324a793"
      },
      "execution_count": null,
      "outputs": [
        {
          "output_type": "stream",
          "name": "stdout",
          "text": [
            "[1, 3, 'b']\n"
          ]
        }
      ]
    },
    {
      "cell_type": "code",
      "source": [
        "print(l1[::-1])"
      ],
      "metadata": {
        "colab": {
          "base_uri": "https://localhost:8080/"
        },
        "id": "05Igs1oKa9mT",
        "outputId": "4b1641f5-2991-44b4-9753-7d314c0f24a7"
      },
      "execution_count": null,
      "outputs": [
        {
          "output_type": "stream",
          "name": "stdout",
          "text": [
            "['c', 'b', 'a', 3, 2, 1]\n"
          ]
        }
      ]
    },
    {
      "cell_type": "code",
      "source": [
        "print(l1[2])"
      ],
      "metadata": {
        "colab": {
          "base_uri": "https://localhost:8080/"
        },
        "id": "Gr5ykbkSbPse",
        "outputId": "476caefd-b0b9-4971-ac33-d9cddb1f8ad5"
      },
      "execution_count": null,
      "outputs": [
        {
          "output_type": "stream",
          "name": "stdout",
          "text": [
            "3\n"
          ]
        }
      ]
    },
    {
      "cell_type": "code",
      "source": [
        "l1[2]=4"
      ],
      "metadata": {
        "id": "5GlzBxy2bplQ"
      },
      "execution_count": null,
      "outputs": []
    },
    {
      "cell_type": "code",
      "source": [
        "print(l1[2])"
      ],
      "metadata": {
        "colab": {
          "base_uri": "https://localhost:8080/"
        },
        "id": "-30CEGyqb6jc",
        "outputId": "8cd88953-9a4e-4fd7-8d3e-ebe1756ec28c"
      },
      "execution_count": null,
      "outputs": [
        {
          "output_type": "stream",
          "name": "stdout",
          "text": [
            "4\n"
          ]
        }
      ]
    },
    {
      "cell_type": "code",
      "source": [
        "print(l1)"
      ],
      "metadata": {
        "colab": {
          "base_uri": "https://localhost:8080/"
        },
        "id": "imxV13Hqb_KC",
        "outputId": "71544192-0f29-4a86-e3ad-e023904f58af"
      },
      "execution_count": null,
      "outputs": [
        {
          "output_type": "stream",
          "name": "stdout",
          "text": [
            "[1, 2, 4, 'a', 'b', 'c']\n"
          ]
        }
      ]
    },
    {
      "cell_type": "code",
      "source": [
        "l1[1:3]=[1]"
      ],
      "metadata": {
        "id": "pUNNd08zcD2U"
      },
      "execution_count": null,
      "outputs": []
    },
    {
      "cell_type": "code",
      "source": [
        "l1.append('d')\n",
        "print(l1)"
      ],
      "metadata": {
        "colab": {
          "base_uri": "https://localhost:8080/"
        },
        "id": "o6dcia0JcZUD",
        "outputId": "fb9ff67d-2ddd-458d-95b3-67c14ab74a44"
      },
      "execution_count": null,
      "outputs": [
        {
          "output_type": "stream",
          "name": "stdout",
          "text": [
            "[1, 1, 'a', 'b', 'c', 'd']\n"
          ]
        }
      ]
    },
    {
      "cell_type": "code",
      "source": [
        "l1.insert(0,'e')\n",
        "print(l1)"
      ],
      "metadata": {
        "colab": {
          "base_uri": "https://localhost:8080/"
        },
        "id": "3PyEx9Hxcm5m",
        "outputId": "eae1d5e4-baad-43d1-cd2f-6d22ef52bb96"
      },
      "execution_count": null,
      "outputs": [
        {
          "output_type": "stream",
          "name": "stdout",
          "text": [
            "['e', 1, 1, 'a', 'b', 'c', 'd']\n"
          ]
        }
      ]
    },
    {
      "cell_type": "code",
      "source": [
        "l2=['f','g','h']\n",
        "l1.extend(l2)\n",
        "print(l1)"
      ],
      "metadata": {
        "colab": {
          "base_uri": "https://localhost:8080/"
        },
        "id": "52SzBhHycuf5",
        "outputId": "d30cafaf-8370-4e08-add1-ff1cc78bb063"
      },
      "execution_count": null,
      "outputs": [
        {
          "output_type": "stream",
          "name": "stdout",
          "text": [
            "['e', 1, 1, 'a', 'b', 'c', 'd', 'f', 'g', 'h']\n"
          ]
        }
      ]
    },
    {
      "cell_type": "code",
      "source": [
        "l2=['h','g','i']\n",
        "l2.sort()\n",
        "print(l2)"
      ],
      "metadata": {
        "colab": {
          "base_uri": "https://localhost:8080/"
        },
        "id": "VvL-6zTOdGjS",
        "outputId": "686b6375-6409-4f3b-8295-8a439b0ad70c"
      },
      "execution_count": null,
      "outputs": [
        {
          "output_type": "stream",
          "name": "stdout",
          "text": [
            "['g', 'h', 'i']\n"
          ]
        }
      ]
    },
    {
      "cell_type": "code",
      "source": [
        "l2.reverse()\n",
        "print(l2)"
      ],
      "metadata": {
        "colab": {
          "base_uri": "https://localhost:8080/"
        },
        "id": "GFk8SDKRdgYz",
        "outputId": "592d88c1-6152-42d5-e058-ce85eee7989b"
      },
      "execution_count": null,
      "outputs": [
        {
          "output_type": "stream",
          "name": "stdout",
          "text": [
            "['i', 'h', 'g']\n"
          ]
        }
      ]
    },
    {
      "cell_type": "code",
      "source": [
        "del l2[1]\n",
        "print(l2)"
      ],
      "metadata": {
        "colab": {
          "base_uri": "https://localhost:8080/"
        },
        "id": "0OQDjrJZdlQQ",
        "outputId": "68a56ec9-4d87-41e6-86e0-767a8ed6a0b2"
      },
      "execution_count": null,
      "outputs": [
        {
          "output_type": "stream",
          "name": "stdout",
          "text": [
            "['i', 'g']\n"
          ]
        }
      ]
    },
    {
      "cell_type": "code",
      "source": [
        "#using for loop. print individual items within a list\n",
        "\n",
        "l1=['a','b','c']\n",
        "#a\n",
        "#b\n",
        "#c\n",
        "for i in l1:\n",
        "  print(i,end='')\n"
      ],
      "metadata": {
        "colab": {
          "base_uri": "https://localhost:8080/"
        },
        "id": "7fAkO_-sds7m",
        "outputId": "55d8206e-bce3-4032-b7ba-1a5a60849c5a"
      },
      "execution_count": null,
      "outputs": [
        {
          "output_type": "stream",
          "name": "stdout",
          "text": [
            "abc"
          ]
        }
      ]
    },
    {
      "cell_type": "code",
      "source": [
        "print(l1)\n",
        "print(*l1)"
      ],
      "metadata": {
        "colab": {
          "base_uri": "https://localhost:8080/"
        },
        "id": "FC3BxicBd2Y3",
        "outputId": "3fa75753-db58-4749-9a29-9e9b2ec6b9d6"
      },
      "execution_count": null,
      "outputs": [
        {
          "output_type": "stream",
          "name": "stdout",
          "text": [
            "['a', 'b', 'c']\n",
            "a b c\n"
          ]
        }
      ]
    },
    {
      "cell_type": "code",
      "source": [],
      "metadata": {
        "id": "r_Ytf35NfItG"
      },
      "execution_count": null,
      "outputs": []
    },
    {
      "cell_type": "markdown",
      "source": [
        "write a pgm to check if a specific items is present within the list\n",
        "l1=['a','b','c,'d,]\n",
        "search_for='e'\n",
        "if 'e' is present within l1, then print the item found"
      ],
      "metadata": {
        "id": "2CwKaYIefLrj"
      }
    },
    {
      "cell_type": "code",
      "source": [
        "l1=['a','b','c','d']\n",
        "search_for=input('item to search: ')\n",
        "flag1=0\n",
        "flag2=0\n",
        "\n",
        "for i in l1:\n",
        "  if i ==search_for:\n",
        "   # print('item found')\n",
        "    flag1=1\n",
        "  else :\n",
        "   # print('itrem is not found')\n",
        "    flag2=1\n",
        "  if flag1==1:\n",
        "    print('item is found')\n",
        "  else:\n",
        "    print('item is not found')"
      ],
      "metadata": {
        "colab": {
          "base_uri": "https://localhost:8080/"
        },
        "id": "rlAR8uAvfV0G",
        "outputId": "1fcc1b51-98dc-4142-9c84-179519aeb047"
      },
      "execution_count": null,
      "outputs": [
        {
          "output_type": "stream",
          "name": "stdout",
          "text": [
            "item to search: e\n",
            "item is not found\n",
            "item is not found\n",
            "item is not found\n",
            "item is not found\n"
          ]
        }
      ]
    },
    {
      "cell_type": "code",
      "source": [],
      "metadata": {
        "id": "XMBsk7b-gv6p"
      },
      "execution_count": null,
      "outputs": []
    },
    {
      "cell_type": "markdown",
      "source": [
        "working with lists in python\n",
        "1. create a list of the following numbers 1,2,3,4,5\n",
        "2. add the number 6 to the end of the list\n",
        "3. remove the num 2 frm the list\n",
        "4.sort the list in the ascendind order\n",
        "5.reverse the list\n",
        "6.print the length of the list\n",
        "7,print the third item in  the list here's one way to solve the execrice in python code\n"
      ],
      "metadata": {
        "id": "VJhqVFfgOLCG"
      }
    },
    {
      "cell_type": "code",
      "source": [
        "l1=[1,2,3,4,5]\n",
        "print(l1)\n",
        "\n",
        "l1.append(6)\n",
        "print(l1)\n",
        "\n",
        "del l1[1]  # l1.remove(2)\n",
        "print(l1)\n",
        "\n",
        "l1.sort()\n",
        "print(l1)\n",
        "\n",
        "l1.reverse() #print(l1[::-1])\n",
        "print(l1)\n",
        "print(len(l1))\n",
        "\n",
        "print(l1[3])"
      ],
      "metadata": {
        "colab": {
          "base_uri": "https://localhost:8080/"
        },
        "id": "HI-BEEeWPOKX",
        "outputId": "6b1f2953-b918-456e-e897-a710d58f2dd6"
      },
      "execution_count": null,
      "outputs": [
        {
          "output_type": "stream",
          "name": "stdout",
          "text": [
            "[1, 2, 3, 4, 5]\n",
            "[1, 2, 3, 4, 5, 6]\n",
            "[1, 3, 4, 5, 6]\n",
            "[1, 3, 4, 5, 6]\n",
            "[6, 5, 4, 3, 1]\n",
            "5\n",
            "3\n"
          ]
        }
      ]
    },
    {
      "cell_type": "code",
      "source": [],
      "metadata": {
        "id": "l0boeuVcPU5d"
      },
      "execution_count": null,
      "outputs": []
    },
    {
      "cell_type": "markdown",
      "source": [
        "create a list of squares of num frm 0 to9 without list comprehension"
      ],
      "metadata": {
        "id": "93SpJi3ESfOJ"
      }
    },
    {
      "cell_type": "code",
      "source": [
        "l1=[]\n",
        "for i in range(0,10):\n",
        "  (l1.append(i**2))\n",
        "print(l1)  \n",
        "\n",
        "#create a list of squares of num frm 0 to 9 with list comprehension\n",
        "\n",
        "l1= [i**2 for i in range(10)]\n",
        "print(l1)\n"
      ],
      "metadata": {
        "colab": {
          "base_uri": "https://localhost:8080/"
        },
        "id": "-WGquTCfSvb0",
        "outputId": "5afc79af-8fda-45dc-a684-4e1577e22e79"
      },
      "execution_count": null,
      "outputs": [
        {
          "output_type": "stream",
          "name": "stdout",
          "text": [
            "[0, 1, 4, 9, 16, 25, 36, 49, 64, 81]\n",
            "[0, 1, 4, 9, 16, 25, 36, 49, 64, 81]\n"
          ]
        }
      ]
    },
    {
      "cell_type": "code",
      "source": [
        "# create a list of cube of numbers frm 0 to 50 without list compr...\n",
        "\n",
        "l1=[]\n",
        "for i in range(50):\n",
        "   i=i**3\n",
        "   l1.append(i)\n",
        "print(l1)\n",
        "\n",
        "\n",
        "# create a list of cube of numbers frm 0 to 50 with list compr...\n",
        "\n",
        "l1=[i**3 for i in range(50)]\n",
        "print(l1)"
      ],
      "metadata": {
        "colab": {
          "base_uri": "https://localhost:8080/"
        },
        "id": "nNkXkeT7Uiip",
        "outputId": "285c4814-31d2-4996-c551-96c2d1b4bb48"
      },
      "execution_count": null,
      "outputs": [
        {
          "output_type": "stream",
          "name": "stdout",
          "text": [
            "[0, 1, 8, 27, 64, 125, 216, 343, 512, 729, 1000, 1331, 1728, 2197, 2744, 3375, 4096, 4913, 5832, 6859, 8000, 9261, 10648, 12167, 13824, 15625, 17576, 19683, 21952, 24389, 27000, 29791, 32768, 35937, 39304, 42875, 46656, 50653, 54872, 59319, 64000, 68921, 74088, 79507, 85184, 91125, 97336, 103823, 110592, 117649]\n",
            "[0, 1, 8, 27, 64, 125, 216, 343, 512, 729, 1000, 1331, 1728, 2197, 2744, 3375, 4096, 4913, 5832, 6859, 8000, 9261, 10648, 12167, 13824, 15625, 17576, 19683, 21952, 24389, 27000, 29791, 32768, 35937, 39304, 42875, 46656, 50653, 54872, 59319, 64000, 68921, 74088, 79507, 85184, 91125, 97336, 103823, 110592, 117649]\n"
          ]
        }
      ]
    },
    {
      "cell_type": "code",
      "source": [
        "#create a list of evevn numbers frm a given list numbers by using list compre..\n",
        "\n",
        "#numbers=[1,2,3,4,5,6,7]  \n",
        "#o/p=[2,4,6]\n",
        "\n",
        "num=[1,2,3,4,5,6,7]\n",
        "even_num=[i for i in num if i%2==0]\n",
        "print(even_num)\n"
      ],
      "metadata": {
        "colab": {
          "base_uri": "https://localhost:8080/"
        },
        "id": "Z6VUcCPlVxIm",
        "outputId": "75874b0b-b276-47ae-b38b-e095d5289dd8"
      },
      "execution_count": null,
      "outputs": [
        {
          "output_type": "stream",
          "name": "stdout",
          "text": [
            "[2, 4, 6]\n"
          ]
        }
      ]
    },
    {
      "cell_type": "code",
      "source": [
        "\n",
        "# ASCII \n",
        "\n",
        "char1 ='a'\n",
        "ASCII=ord(char1)\n",
        "print(char1)\n",
        "print(ASCII)"
      ],
      "metadata": {
        "colab": {
          "base_uri": "https://localhost:8080/"
        },
        "id": "9gKcv79SWr0_",
        "outputId": "f93edb94-9ccf-4685-ad4b-889169b6b3a6"
      },
      "execution_count": null,
      "outputs": [
        {
          "output_type": "stream",
          "name": "stdout",
          "text": [
            "a\n",
            "97\n"
          ]
        }
      ]
    },
    {
      "cell_type": "code",
      "source": [
        "#ASCII(a)-ASCII(A) = 97 -65=32\n",
        "#i/p: 'a' --> ASCII =97\n",
        "#convert to uppercase\n",
        "\n",
        "\n"
      ],
      "metadata": {
        "id": "_i9WOItDap9F"
      },
      "execution_count": null,
      "outputs": []
    },
    {
      "cell_type": "code",
      "source": [
        "#write a pgm to convert  upper case to lower case and vise versa\n",
        "\n",
        "char2 =input(\"enter a character: \")\n",
        "ASCII =ord(char2)\n",
        "\n",
        "#i/p is uppercase\n",
        "if ASCII>64 and ASCII <91:\n",
        "  print(\"input charcter is in uppercase\")\n",
        "  ASCII+=32\n",
        "  small_case=chr(ASCII)\n",
        "  print(small_case)\n",
        "\n",
        "elif ASCII<123 and ASCII>96:\n",
        "  print(\"input character is in lowercase\")\n",
        "  ASCII-=32\n",
        "  upper_case=chr(ASCII)\n",
        "  print(upper_case)\n",
        "\n",
        "else:\n",
        "  print(\"invalid input\")\n",
        "\n",
        "\n"
      ],
      "metadata": {
        "colab": {
          "base_uri": "https://localhost:8080/"
        },
        "id": "L5bipOgxbS-B",
        "outputId": "94460e2e-5c39-427e-d443-379aacc7d578"
      },
      "execution_count": null,
      "outputs": [
        {
          "output_type": "stream",
          "name": "stdout",
          "text": [
            "enter a character: a\n",
            "input character is in lowercase\n",
            "A\n"
          ]
        }
      ]
    },
    {
      "cell_type": "code",
      "source": [
        " #LIST : collection of items, where items are ordered,changeable,allowed duplicates\n",
        "\n",
        "#Tuple:collection of items, where items are ordered,unchangeable,allow duplicates\n",
        "\n",
        "t1=(1,2,3,4,5)\n",
        "print(type(t1))"
      ],
      "metadata": {
        "colab": {
          "base_uri": "https://localhost:8080/"
        },
        "id": "xS6-U__LcBgv",
        "outputId": "1edcded9-495b-4a0a-88f3-30627e0136d3"
      },
      "execution_count": null,
      "outputs": [
        {
          "output_type": "stream",
          "name": "stdout",
          "text": [
            "<class 'tuple'>\n"
          ]
        }
      ]
    },
    {
      "cell_type": "code",
      "source": [
        "t2=3,4,5\n",
        "print(type(t2))"
      ],
      "metadata": {
        "colab": {
          "base_uri": "https://localhost:8080/"
        },
        "id": "lC2lDxN_nMtE",
        "outputId": "5bbaadb4-e8c7-4aaf-f49e-493bac5bec0c"
      },
      "execution_count": null,
      "outputs": [
        {
          "output_type": "stream",
          "name": "stdout",
          "text": [
            "<class 'tuple'>\n"
          ]
        }
      ]
    },
    {
      "cell_type": "code",
      "source": [
        "#create a tuple containing 1 item and print its type\n",
        "\n",
        "t3=4\n",
        "print(type(t3))\n",
        "\n",
        "\n",
        "t3=4,                               #t3=('a,)\n",
        "print(type(t3))\n",
        "\n"
      ],
      "metadata": {
        "colab": {
          "base_uri": "https://localhost:8080/"
        },
        "id": "dOlusbEdnUKl",
        "outputId": "1ad39197-5dc7-4cde-cd73-d6e136d751f3"
      },
      "execution_count": null,
      "outputs": [
        {
          "output_type": "stream",
          "name": "stdout",
          "text": [
            "<class 'int'>\n",
            "<class 'tuple'>\n"
          ]
        }
      ]
    },
    {
      "cell_type": "code",
      "source": [
        "#tuple containing numbers from 0 to 9\n",
        "\n",
        "\n",
        "t5= tuple(range(0,10))\n",
        "print(t5)\n",
        "print(type(t5))"
      ],
      "metadata": {
        "colab": {
          "base_uri": "https://localhost:8080/"
        },
        "id": "EaBDAXK7niPh",
        "outputId": "6942b112-b72d-4d6b-d3f3-261c42575c13"
      },
      "execution_count": null,
      "outputs": [
        {
          "output_type": "stream",
          "name": "stdout",
          "text": [
            "(0, 1, 2, 3, 4, 5, 6, 7, 8, 9)\n",
            "<class 'tuple'>\n"
          ]
        }
      ]
    },
    {
      "cell_type": "code",
      "source": [
        "#list to tuple\n",
        "\n",
        "l1=[1,2,3,4,5]\n",
        "t6=tuple(l1)\n",
        "print(t6)\n",
        "\n",
        "l2=list(t6)\n",
        "print(l2)"
      ],
      "metadata": {
        "colab": {
          "base_uri": "https://localhost:8080/"
        },
        "id": "QXD2N8r7odjd",
        "outputId": "a4f7997f-2293-4e92-81e7-c5b24175a56b"
      },
      "execution_count": null,
      "outputs": [
        {
          "output_type": "stream",
          "name": "stdout",
          "text": [
            "(1, 2, 3, 4, 5)\n",
            "[1, 2, 3, 4, 5]\n"
          ]
        }
      ]
    },
    {
      "cell_type": "code",
      "source": [
        "#items are ordered\n",
        "\n",
        "t1=1,2,3,4,5,6\n",
        "print(t1)\n",
        "print(t1[2])\n",
        "\n",
        "print(t1[1:4:2])\n",
        "\n",
        "print(t1[::-1])"
      ],
      "metadata": {
        "colab": {
          "base_uri": "https://localhost:8080/"
        },
        "id": "8iXWup1So0Wx",
        "outputId": "d3cc6bfe-1c13-42ce-aa49-8e2669679981"
      },
      "execution_count": null,
      "outputs": [
        {
          "output_type": "stream",
          "name": "stdout",
          "text": [
            "(1, 2, 3, 4, 5, 6)\n",
            "3\n",
            "(2, 4)\n",
            "(6, 5, 4, 3, 2, 1)\n"
          ]
        }
      ]
    },
    {
      "cell_type": "code",
      "source": [
        "#items are not changeable\n",
        "\n",
        "t1=1.2.3.4.5.6\n",
        "print(t1[2])\n",
        "t1[2]"
      ],
      "metadata": {
        "colab": {
          "base_uri": "https://localhost:8080/",
          "height": 130
        },
        "id": "iCUwRMZSphqe",
        "outputId": "77c12bf3-73bc-42b7-8c4e-5e836f05d69f"
      },
      "execution_count": null,
      "outputs": [
        {
          "output_type": "error",
          "ename": "SyntaxError",
          "evalue": "ignored",
          "traceback": [
            "\u001b[0;36m  File \u001b[0;32m\"<ipython-input-55-47db7fc2b77c>\"\u001b[0;36m, line \u001b[0;32m3\u001b[0m\n\u001b[0;31m    t1=1.2.3.4.5.6\u001b[0m\n\u001b[0m          ^\u001b[0m\n\u001b[0;31mSyntaxError\u001b[0m\u001b[0;31m:\u001b[0m invalid syntax\n"
          ]
        }
      ]
    },
    {
      "cell_type": "code",
      "source": [
        "#tuple methods\n",
        "\n",
        "t1=1,2,3,4,5\n",
        "l1=list(t1)\n",
        "print(l1)\n",
        "l1.append(6)\n",
        "print(l1)\n",
        "l1=tuple(l1)\n",
        "print(l1)\n"
      ],
      "metadata": {
        "colab": {
          "base_uri": "https://localhost:8080/"
        },
        "id": "hNcq_BnvrJCi",
        "outputId": "8f6c1458-550b-4425-c985-ccba2412f683"
      },
      "execution_count": null,
      "outputs": [
        {
          "output_type": "stream",
          "name": "stdout",
          "text": [
            "[1, 2, 3, 4, 5]\n",
            "[1, 2, 3, 4, 5, 6]\n",
            "(1, 2, 3, 4, 5, 6)\n"
          ]
        }
      ]
    },
    {
      "cell_type": "code",
      "source": [
        "# set :collection   of items, where the items are unordered, dont allow duplicates\n",
        "# memory is not allocated only during runtime , 10 time faster than list and tuple\n",
        "\n",
        "s1={1,2,3}\n",
        "print(type(s1))"
      ],
      "metadata": {
        "colab": {
          "base_uri": "https://localhost:8080/"
        },
        "id": "F8ZVj3iYrZQE",
        "outputId": "e75a5cf6-240a-4515-f4f0-d7124ea25ad7"
      },
      "execution_count": null,
      "outputs": [
        {
          "output_type": "stream",
          "name": "stdout",
          "text": [
            "<class 'set'>\n"
          ]
        }
      ]
    },
    {
      "cell_type": "code",
      "source": [
        "print(s1[0])"
      ],
      "metadata": {
        "colab": {
          "base_uri": "https://localhost:8080/",
          "height": 165
        },
        "id": "dIiygoN2s8Of",
        "outputId": "8160e4f7-eb9d-4e2b-d5ab-7728863ccc30"
      },
      "execution_count": null,
      "outputs": [
        {
          "output_type": "error",
          "ename": "TypeError",
          "evalue": "ignored",
          "traceback": [
            "\u001b[0;31m---------------------------------------------------------------------------\u001b[0m",
            "\u001b[0;31mTypeError\u001b[0m                                 Traceback (most recent call last)",
            "\u001b[0;32m<ipython-input-60-119e8284cd1f>\u001b[0m in \u001b[0;36m<module>\u001b[0;34m\u001b[0m\n\u001b[0;32m----> 1\u001b[0;31m \u001b[0mprint\u001b[0m\u001b[0;34m(\u001b[0m\u001b[0ms1\u001b[0m\u001b[0;34m[\u001b[0m\u001b[0;36m0\u001b[0m\u001b[0;34m]\u001b[0m\u001b[0;34m)\u001b[0m\u001b[0;34m\u001b[0m\u001b[0;34m\u001b[0m\u001b[0m\n\u001b[0m",
            "\u001b[0;31mTypeError\u001b[0m: 'set' object is not subscriptable"
          ]
        }
      ]
    },
    {
      "cell_type": "code",
      "source": [
        "#write a pgm to search for an item in a SET\n",
        "#i/p: s1={1,2,3,4,5}\n",
        "#o/p: search item ids found or not \n",
        "\n",
        "\n",
        "s1={1,2,3,4,5}\n",
        "search_item=int(input(\"enter the input to search:  \"))\n",
        "flag1=0\n",
        "flag2=0\n",
        "\n",
        "for item in s1:\n",
        "  if item==search_item:\n",
        "    print('item found')\n",
        "  else:\n",
        "    print('item is not found')"
      ],
      "metadata": {
        "colab": {
          "base_uri": "https://localhost:8080/"
        },
        "id": "HVdezZnLtO7X",
        "outputId": "b52b4024-c170-47c2-d3e6-431384f822af"
      },
      "execution_count": null,
      "outputs": [
        {
          "output_type": "stream",
          "name": "stdout",
          "text": [
            "enter the input to search:  5\n",
            "item is not found\n",
            "item is not found\n",
            "item is not found\n",
            "item is not found\n",
            "item found\n"
          ]
        }
      ]
    },
    {
      "cell_type": "code",
      "source": [
        "#set methods\n",
        "s1={1,2,3,4}\n",
        "s2={'a','b','f'}\n",
        "s1.update(s2)\n",
        "print(s1)\n",
        "\n",
        "#to remove the content\n",
        "\n",
        "s1.remove('a')\n",
        "print(s1)\n",
        "\n",
        "s1.discard('f')\n",
        "print(s1)"
      ],
      "metadata": {
        "colab": {
          "base_uri": "https://localhost:8080/"
        },
        "id": "ciHUFnxVu7XX",
        "outputId": "0d4fffcb-9675-488d-e7c5-a7edaaca87eb"
      },
      "execution_count": null,
      "outputs": [
        {
          "output_type": "stream",
          "name": "stdout",
          "text": [
            "{1, 2, 3, 4, 'f', 'b', 'a'}\n",
            "{1, 2, 3, 4, 'f', 'b'}\n",
            "{1, 2, 3, 4, 'b'}\n"
          ]
        }
      ]
    },
    {
      "cell_type": "code",
      "source": [
        "#set opertions\n",
        " \n",
        "s1={'a','b','c','d'}\n",
        "s2={'c','d','e','f','g'}\n",
        "\n",
        " #union\n",
        "s3=s1.union(s2)\n",
        "print('union: ',s3)\n",
        "\n",
        "#intersection\n",
        "s3=s1.intersection(s2)\n",
        "print('intersection: ',s3)\n",
        "\n",
        "\n",
        "#symmetric difference\n",
        "s5=s1.symmetric_difference(s2)\n",
        "print('s1-s2: ',s5)"
      ],
      "metadata": {
        "colab": {
          "base_uri": "https://localhost:8080/"
        },
        "id": "6bXHP6h1wGYQ",
        "outputId": "33e5f73d-0e77-4d45-c926-f12c796a85ab"
      },
      "execution_count": null,
      "outputs": [
        {
          "output_type": "stream",
          "name": "stdout",
          "text": [
            "union:  {'c', 'f', 'g', 'd', 'e', 'b', 'a'}\n",
            "intersection:  {'c', 'd'}\n",
            "s1-s2:  {'b', 'g', 'e', 'f', 'a'}\n"
          ]
        }
      ]
    },
    {
      "cell_type": "code",
      "source": [
        "\n",
        "\n",
        "break_end_time= '11:15'  #hr:mins\n",
        "actual_break_time='11:35'\n",
        "total_time= 15\n",
        "\n",
        "break_end_time_sep = break_end_time.split(sep=':')\n",
        "actual_break_time_sep= actual_break_time.split(sep=':')\n",
        "\n",
        "print(break_end_time_sep[0],break_end_time_sep[1])\n",
        "print(actual_break_end_time_sep[0] , actual_break_end_time_sep[1])\n",
        "\n",
        "diff_hrs = int(actual_break_end_time_sep[0])-(break_end_time_sep[0])\n",
        "diff_mins = int(actual_break_end_time_sep[1])-(break_end_time_sep[1])\n",
        "print('difference in hours : ',diff_hrs)\n",
        "print('difference in minutes : ',diff_mins)\n",
        "\n",
        "exceed_time= diff_mins\n",
        "print(f'Exceed time in mins: {exceed_time}')\n",
        "\n",
        "exceed_time_in_per=100*(exceed_time/total_break_time)\n",
        "print(f'Exceed time in %: {exceed_time_in_perc}')\n",
        "\n",
        "print(f'total time wasted in hrs : {exceed_time*15*3/60}')\n",
        "print(f'total time wasted in mins : {exceed_time*15*3/60}')\n"
      ],
      "metadata": {
        "id": "-ztWz9i3yfWi",
        "colab": {
          "base_uri": "https://localhost:8080/",
          "height": 253
        },
        "outputId": "f3b46f39-7593-4457-9b3d-6a7d8616c8ee"
      },
      "execution_count": null,
      "outputs": [
        {
          "output_type": "stream",
          "name": "stdout",
          "text": [
            "11 15\n"
          ]
        },
        {
          "output_type": "error",
          "ename": "NameError",
          "evalue": "ignored",
          "traceback": [
            "\u001b[0;31m---------------------------------------------------------------------------\u001b[0m",
            "\u001b[0;31mNameError\u001b[0m                                 Traceback (most recent call last)",
            "\u001b[0;32m<ipython-input-4-00af6ec27c4e>\u001b[0m in \u001b[0;36m<module>\u001b[0;34m\u001b[0m\n\u001b[1;32m      7\u001b[0m \u001b[0;34m\u001b[0m\u001b[0m\n\u001b[1;32m      8\u001b[0m \u001b[0mprint\u001b[0m\u001b[0;34m(\u001b[0m\u001b[0mbreak_end_time_sep\u001b[0m\u001b[0;34m[\u001b[0m\u001b[0;36m0\u001b[0m\u001b[0;34m]\u001b[0m\u001b[0;34m,\u001b[0m\u001b[0mbreak_end_time_sep\u001b[0m\u001b[0;34m[\u001b[0m\u001b[0;36m1\u001b[0m\u001b[0;34m]\u001b[0m\u001b[0;34m)\u001b[0m\u001b[0;34m\u001b[0m\u001b[0;34m\u001b[0m\u001b[0m\n\u001b[0;32m----> 9\u001b[0;31m \u001b[0mprint\u001b[0m\u001b[0;34m(\u001b[0m\u001b[0mactual_break_end_time_sep\u001b[0m\u001b[0;34m[\u001b[0m\u001b[0;36m0\u001b[0m\u001b[0;34m]\u001b[0m \u001b[0;34m,\u001b[0m \u001b[0mactual_break_end_time_sep\u001b[0m\u001b[0;34m[\u001b[0m\u001b[0;36m1\u001b[0m\u001b[0;34m]\u001b[0m\u001b[0;34m)\u001b[0m\u001b[0;34m\u001b[0m\u001b[0;34m\u001b[0m\u001b[0m\n\u001b[0m\u001b[1;32m     10\u001b[0m \u001b[0;34m\u001b[0m\u001b[0m\n\u001b[1;32m     11\u001b[0m \u001b[0mdiff_hrs\u001b[0m \u001b[0;34m=\u001b[0m \u001b[0mint\u001b[0m\u001b[0;34m(\u001b[0m\u001b[0mactual_break_end_time_sep\u001b[0m\u001b[0;34m[\u001b[0m\u001b[0;36m0\u001b[0m\u001b[0;34m]\u001b[0m\u001b[0;34m)\u001b[0m\u001b[0;34m-\u001b[0m\u001b[0;34m(\u001b[0m\u001b[0mbreak_end_time_sep\u001b[0m\u001b[0;34m[\u001b[0m\u001b[0;36m0\u001b[0m\u001b[0;34m]\u001b[0m\u001b[0;34m)\u001b[0m\u001b[0;34m\u001b[0m\u001b[0;34m\u001b[0m\u001b[0m\n",
            "\u001b[0;31mNameError\u001b[0m: name 'actual_break_end_time_sep' is not defined"
          ]
        }
      ]
    },
    {
      "cell_type": "code",
      "source": [
        "#dictionary : collection of items,where items are ordered ,changeable and dont allow duplicates\n",
        "\n",
        "#items in key:value pair\n",
        "\n",
        "d1={\n",
        "    'Name':'mou',\n",
        "    'Age' :200,\n",
        "    'city' : 'HSN'\n",
        "}\n",
        "print(d1)\n",
        "\n",
        "print(d1['Name'])"
      ],
      "metadata": {
        "colab": {
          "base_uri": "https://localhost:8080/"
        },
        "id": "GEn5pGs1WlCx",
        "outputId": "a5b33543-9003-4204-a0ba-7191b438fe29"
      },
      "execution_count": null,
      "outputs": [
        {
          "output_type": "stream",
          "name": "stdout",
          "text": [
            "{'Name': 'mou', 'Age': 200, 'city': 'HSN'}\n",
            "mou\n"
          ]
        }
      ]
    },
    {
      "cell_type": "code",
      "source": [
        "d2 = {\n",
        "    0:'name',\n",
        "    1:'age',\n",
        "    2:'place'\n",
        "}\n",
        "print(d2)\n",
        "\n",
        "print(d2[1])"
      ],
      "metadata": {
        "colab": {
          "base_uri": "https://localhost:8080/"
        },
        "id": "i49IvmRqY_L8",
        "outputId": "ac11934e-e351-4311-8e65-8f66f3e39169"
      },
      "execution_count": null,
      "outputs": [
        {
          "output_type": "stream",
          "name": "stdout",
          "text": [
            "{0: 'name', 1: 'age', 2: 'place'}\n",
            "age\n"
          ]
        }
      ]
    },
    {
      "cell_type": "code",
      "source": [
        "d3 ={\n",
        "    3:[1,2,3],\n",
        "    4:'mou'\n",
        "}\n",
        "print(d3)\n",
        "\n",
        "print(d3[3])\n",
        "\n",
        "print(d3[3][0])\n"
      ],
      "metadata": {
        "colab": {
          "base_uri": "https://localhost:8080/"
        },
        "id": "h9sftmPGZfy_",
        "outputId": "3f675137-8809-4263-db8b-f28c7961893c"
      },
      "execution_count": null,
      "outputs": [
        {
          "output_type": "stream",
          "name": "stdout",
          "text": [
            "{3: [1, 2, 3], 4: 'mou'}\n",
            "[1, 2, 3]\n",
            "1\n"
          ]
        }
      ]
    },
    {
      "cell_type": "code",
      "source": [
        "#dict... methods\n",
        "\n",
        "#get\n",
        "d4 ={\n",
        "    'key1':'firstvalue',\n",
        "    'key2':'secondvalue'\n",
        "}\n",
        "print(d4.get('key1'))\n",
        "\n",
        "#values\n",
        "print(d4.values())\n",
        "\n",
        "#keys\n",
        "print(d4.keys())\n",
        "\n"
      ],
      "metadata": {
        "colab": {
          "base_uri": "https://localhost:8080/"
        },
        "id": "PoNuaprIaF6X",
        "outputId": "96cd336c-52a2-4b78-ab77-1b2f512f8e79"
      },
      "execution_count": null,
      "outputs": [
        {
          "output_type": "stream",
          "name": "stdout",
          "text": [
            "firstvalue\n",
            "dict_values(['firstvalue', 'secondvalue'])\n",
            "dict_keys(['key1', 'key2'])\n",
            "secondvalue\n"
          ]
        }
      ]
    },
    {
      "cell_type": "code",
      "source": [
        "#write pgm to make 'key1' content seconvalue\n",
        "\n",
        "d4 ={\n",
        "    'key1':'firstvalue',\n",
        "    'key2':'secondvalue'\n",
        "}\n",
        "d4['key1']='secondvalue'\n",
        "print(d4)"
      ],
      "metadata": {
        "colab": {
          "base_uri": "https://localhost:8080/"
        },
        "id": "zBE3pnc0a2px",
        "outputId": "8478a166-30b1-42a4-f8d1-3846743765e9"
      },
      "execution_count": null,
      "outputs": [
        {
          "output_type": "stream",
          "name": "stdout",
          "text": [
            "{'key1': 'secondvalue', 'key2': 'secondvalue'}\n"
          ]
        }
      ]
    },
    {
      "cell_type": "code",
      "source": [
        "#use for loop to iterate over keys\n",
        "d1 = {\n",
        "    'Name' :'python',\n",
        "    'LastName':'pgm',\n",
        "    'age':35,\n",
        "    'module':True\n",
        "}\n",
        "for i in d1:\n",
        "  print(i)\n",
        "print()\n",
        "\n",
        "for i in d1.values():\n",
        "    print(i)\n",
        "\n",
        "for i,j in d1.items():\n",
        "      print(f'{i}:{j}')"
      ],
      "metadata": {
        "colab": {
          "base_uri": "https://localhost:8080/"
        },
        "id": "za0lF6BncESh",
        "outputId": "2ec4e495-5517-4311-aa9a-96c12f43c316"
      },
      "execution_count": null,
      "outputs": [
        {
          "output_type": "stream",
          "name": "stdout",
          "text": [
            "Name\n",
            "LastName\n",
            "age\n",
            "module\n",
            "\n",
            "python\n",
            "pgm\n",
            "35\n",
            "True\n",
            "Name:python\n",
            "LastName:pgm\n",
            "age:35\n",
            "module:True\n"
          ]
        }
      ]
    },
    {
      "cell_type": "code",
      "source": [
        "#function : user defined block of code which runs whn called\n",
        "\n",
        "def function_name(parameter1,parameter2):\n",
        "  #function code\n",
        "\n",
        "  function_name(val1,val2)"
      ],
      "metadata": {
        "id": "y7nusuqEdFHl"
      },
      "execution_count": null,
      "outputs": []
    },
    {
      "cell_type": "code",
      "source": [
        "def print_name(name='mou'):\n",
        "  print(name)\n",
        "print_name()\n"
      ],
      "metadata": {
        "colab": {
          "base_uri": "https://localhost:8080/"
        },
        "id": "al8kviE8ebUV",
        "outputId": "5acfc05b-10d6-4342-d7b3-e4a45c996f66"
      },
      "execution_count": null,
      "outputs": [
        {
          "output_type": "stream",
          "name": "stdout",
          "text": [
            "mou\n"
          ]
        }
      ]
    },
    {
      "cell_type": "code",
      "source": [
        "def print_name(*name):\n",
        "  print(name) \n",
        "print_name('name1','name2','name3')"
      ],
      "metadata": {
        "colab": {
          "base_uri": "https://localhost:8080/"
        },
        "id": "yK__iekHehOD",
        "outputId": "aed25fbc-b6c8-4530-d7f7-6a541192a6a9"
      },
      "execution_count": null,
      "outputs": [
        {
          "output_type": "stream",
          "name": "stdout",
          "text": [
            "('name1', 'name2', 'name3')\n"
          ]
        }
      ]
    },
    {
      "cell_type": "code",
      "source": [
        "def print_name(*name):\n",
        "  for i in name:\n",
        "   print(name)\n",
        "print_name('name1','name2','name3')"
      ],
      "metadata": {
        "colab": {
          "base_uri": "https://localhost:8080/"
        },
        "id": "d3s14YrvfRZX",
        "outputId": "2eb569c6-3f9d-4bca-ea00-4a51beb0cb75"
      },
      "execution_count": null,
      "outputs": [
        {
          "output_type": "stream",
          "name": "stdout",
          "text": [
            "('name1', 'name2', 'name3')\n",
            "('name1', 'name2', 'name3')\n",
            "('name1', 'name2', 'name3')\n"
          ]
        }
      ]
    },
    {
      "cell_type": "code",
      "source": [
        "#write a function which takes your weight on earth  and returns the weight on moon and mars\n",
        "#weight = mass* acceleration due to gravity\n",
        "#accceleration due to gravity = 9.81 m/s2\n",
        "#weighht on moon = mass*accel due to gravity_on_moon\n",
        "#accel due to gravi_on_moon =1.621\n",
        "#accel due to gravi_on_moon =3.711\n",
        "\n",
        "def find_weight(weight):\n",
        "  mass = weight/9.81\n",
        "\n",
        "  weight_moon = mass*1.621\n",
        "  weight_mars = mass*3.711\n",
        "  print(f'weight on moon : {weight_moon} kgs')\n",
        "  print(f'weight on mars : {weight_mars} kgs')\n",
        "weight = float(input('enter weight in kg: '))\n",
        "find_weight(weight)"
      ],
      "metadata": {
        "colab": {
          "base_uri": "https://localhost:8080/"
        },
        "id": "_tLJjlh3fxiq",
        "outputId": "483e9bf1-7bab-449d-b60d-ef0f6b17bcdc"
      },
      "execution_count": null,
      "outputs": [
        {
          "output_type": "stream",
          "name": "stdout",
          "text": [
            "enter weight in kg: 2\n",
            "weight on moon : 0.33047910295616717 kgs\n",
            "weight on mars : 0.7565749235474005 kgs\n"
          ]
        }
      ]
    },
    {
      "cell_type": "code",
      "source": [
        "def find_weight(weight):         #return\n",
        "  mass = weight/9.81\n",
        "\n",
        "  weight_moon = mass*1.621\n",
        "  weight_mars = mass*3.711\n",
        "  return weight_moon,weight_mars\n",
        "\n",
        "weight = float(input('enter weight in kg: '))\n",
        "w_moon,w_mars=find_weight(weight)\n",
        "print(f'moon: {w_moon}')\n",
        "print(f'mars: {w_mars}')"
      ],
      "metadata": {
        "colab": {
          "base_uri": "https://localhost:8080/"
        },
        "id": "nsWZ-k0CiGYL",
        "outputId": "a6b4f386-0592-44e2-c2f7-c1a703734664"
      },
      "execution_count": null,
      "outputs": [
        {
          "output_type": "stream",
          "name": "stdout",
          "text": [
            "enter weight in kg: 2\n",
            "moon: 0.33047910295616717\n",
            "mars: 0.7565749235474005\n"
          ]
        }
      ]
    },
    {
      "cell_type": "code",
      "source": [],
      "metadata": {
        "id": "LOSiLb-Wi_z6"
      },
      "execution_count": null,
      "outputs": []
    }
  ]
}