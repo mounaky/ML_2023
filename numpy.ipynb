{
  "cells": [
    {
      "cell_type": "markdown",
      "metadata": {
        "id": "view-in-github",
        "colab_type": "text"
      },
      "source": [
        "<a href=\"https://colab.research.google.com/github/mounaky/ML_2023/blob/main/numpy.ipynb\" target=\"_parent\"><img src=\"https://colab.research.google.com/assets/colab-badge.svg\" alt=\"Open In Colab\"/></a>"
      ]
    },
    {
      "cell_type": "code",
      "execution_count": null,
      "metadata": {
        "id": "17lhDlz6jNFo"
      },
      "outputs": [],
      "source": [
        "#Numpy \n",
        "\n",
        "import numpy as np"
      ]
    },
    {
      "cell_type": "code",
      "execution_count": null,
      "metadata": {
        "colab": {
          "base_uri": "https://localhost:8080/"
        },
        "id": "OoYYkI24lTDG",
        "outputId": "16082efe-84a8-4a50-865e-05e9ba5f5449"
      },
      "outputs": [
        {
          "name": "stdout",
          "output_type": "stream",
          "text": [
            "[1 2 3 4]\n",
            "<class 'numpy.ndarray'>\n"
          ]
        }
      ],
      "source": [
        "#create numpy array or nd arrays\n",
        "\n",
        "arr = np.array([1,2,3,4]) #np\n",
        "print(arr)\n",
        "\n",
        "print(type(arr))"
      ]
    },
    {
      "cell_type": "code",
      "execution_count": null,
      "metadata": {
        "colab": {
          "base_uri": "https://localhost:8080/"
        },
        "id": "1pckx45wl49g",
        "outputId": "a8fbe800-4ebe-4e84-9cc6-ceb7e8db4a82"
      },
      "outputs": [
        {
          "name": "stdout",
          "output_type": "stream",
          "text": [
            "24\n",
            "0\n",
            "dimension:  0\n",
            "shape:  ()\n"
          ]
        }
      ],
      "source": [
        "#0- D array\n",
        "arr1 = np.array(24)\n",
        "print(arr1)\n",
        "\n",
        "print(arr1.ndim)\n",
        "\n",
        "print('dimension: ',arr1.ndim)\n",
        "print('shape: ',arr1.shape)"
      ]
    },
    {
      "cell_type": "code",
      "execution_count": null,
      "metadata": {
        "colab": {
          "base_uri": "https://localhost:8080/"
        },
        "id": "yQMgFOMpmTfB",
        "outputId": "cbc11758-d617-4bd9-f416-1489af68e3d5"
      },
      "outputs": [
        {
          "name": "stdout",
          "output_type": "stream",
          "text": [
            "[2 3 4]\n",
            "1\n",
            "dimension:  1\n",
            "shape:  (3,)\n"
          ]
        }
      ],
      "source": [
        "#1-D array : to create a 1D array specify a layer of square brackets\n",
        "\n",
        "arr1=np.array([2,3,4]) #1 item\n",
        "print(arr1)\n",
        "\n",
        "print(arr1.ndim)\n",
        "\n",
        "print('dimension: ',arr1.ndim)\n",
        "print('shape: ',arr1.shape)\n"
      ]
    },
    {
      "cell_type": "code",
      "execution_count": null,
      "metadata": {
        "colab": {
          "base_uri": "https://localhost:8080/"
        },
        "id": "6lhXvWn6nPya",
        "outputId": "e7013c72-08b3-4839-94e2-8364788f80df"
      },
      "outputs": [
        {
          "name": "stdout",
          "output_type": "stream",
          "text": [
            "[[2 3 4]\n",
            " [3 4 5]]\n",
            "2\n",
            "dimension:  2\n",
            "shape:  (2, 3)\n"
          ]
        }
      ],
      "source": [
        "#2-D array : \n",
        "arr1=np.array([[2,3,4],[3,4,5]])   #1 item\n",
        "print(arr1)\n",
        "\n",
        "print(arr1.ndim)\n",
        "\n",
        "print('dimension: ',arr1.ndim)\n",
        "print('shape: ',arr1.shape)          #shape =(2) rows and (3)col..\n"
      ]
    },
    {
      "cell_type": "code",
      "execution_count": null,
      "metadata": {
        "colab": {
          "base_uri": "https://localhost:8080/"
        },
        "id": "eRQFGbjhnxwG",
        "outputId": "3b8eabf0-9955-4c51-999e-012f3fbcdcc4"
      },
      "outputs": [
        {
          "name": "stdout",
          "output_type": "stream",
          "text": [
            "[[1 2 3]\n",
            " [4 5 6]\n",
            " [7 8 9]]\n",
            "dimension:  2\n",
            "shape:  (3, 3)\n"
          ]
        }
      ],
      "source": [
        "#craete 2D array whose shape =(3,3)\n",
        "\n",
        "arr1=np.array([[1,2,3],[4,5,6],[7,8,9]])\n",
        "print(arr1)\n",
        "\n",
        "print('dimension: ',arr1.ndim)\n",
        "print('shape: ',arr1.shape)\n"
      ]
    },
    {
      "cell_type": "code",
      "execution_count": null,
      "metadata": {
        "colab": {
          "base_uri": "https://localhost:8080/"
        },
        "id": "gb7CSai_pRew",
        "outputId": "a764ebfc-8f00-4a53-a9df-3c3df076da23"
      },
      "outputs": [
        {
          "name": "stdout",
          "output_type": "stream",
          "text": [
            "[1 2 3]\n",
            "dimension :  1\n",
            "shape:  (3,)\n"
          ]
        }
      ],
      "source": [
        "import numpy as np\n",
        "\n",
        "arr1=np.array([1,2,3])\n",
        "print(arr1)\n",
        "\n",
        "print('dimension : ',arr1.ndim)\n",
        "print('shape: ',arr1.shape)"
      ]
    },
    {
      "cell_type": "code",
      "execution_count": null,
      "metadata": {
        "colab": {
          "base_uri": "https://localhost:8080/"
        },
        "id": "IxOb0kicX8lM",
        "outputId": "1ad583b7-e84c-4ad3-85ac-e71deedc3f9b"
      },
      "outputs": [
        {
          "name": "stdout",
          "output_type": "stream",
          "text": [
            "[[1 2 3]\n",
            " [1 2 3]\n",
            " [3 4 5]\n",
            " [5 6 7]]\n",
            "dimension : 2\n",
            "shape: (4, 3)\n"
          ]
        }
      ],
      "source": [
        "#craete 2D array whose shape =(4,3)\n",
        "arr2=np.array([[1,2,3],[1,2,3],[3,4,5],[5,6,7]])\n",
        "print(arr2)\n",
        "print('dimension :',arr2.ndim)\n",
        "print('shape:' ,arr2.shape)\n"
      ]
    },
    {
      "cell_type": "code",
      "execution_count": null,
      "metadata": {
        "colab": {
          "base_uri": "https://localhost:8080/"
        },
        "id": "0BJJVQ9fa4oK",
        "outputId": "e6b35e48-01d0-4743-adb9-ea2546173ddf"
      },
      "outputs": [
        {
          "name": "stdout",
          "output_type": "stream",
          "text": [
            "[[[2 3 4]\n",
            "  [5 6 7]\n",
            "  [5 6 7]\n",
            "  [3 4 5]]\n",
            "\n",
            " [[2 3 4]\n",
            "  [5 6 7]\n",
            "  [5 6 7]\n",
            "  [3 4 5]]]\n",
            "dimension:  3\n",
            "shape:  (2, 4, 3)\n"
          ]
        }
      ],
      "source": [
        "#craete 3D array whose shape \n",
        "arr3=np.array([[[2,3,4],[5,6,7],[5,6,7],[3,4,5]],[[2,3,4],[5,6,7],[5,6,7],[3,4,5]]])\n",
        "print(arr3)\n",
        "print('dimension: ',arr3.ndim)\n",
        "print('shape: ', arr3.shape)                    #shape=(2,4,3) 2-no of blocks in array"
      ]
    },
    {
      "cell_type": "code",
      "execution_count": null,
      "metadata": {
        "colab": {
          "base_uri": "https://localhost:8080/"
        },
        "id": "HA9fQNAId2k0",
        "outputId": "a042f695-65b9-4df3-9b34-e51489b5581c"
      },
      "outputs": [
        {
          "name": "stdout",
          "output_type": "stream",
          "text": [
            "[[[[2 3 4]\n",
            "   [5 6 7]\n",
            "   [6 7 8]\n",
            "   [2 3 4]]]]\n",
            "dimension:  4\n",
            "shape:  (1, 1, 4, 3)\n"
          ]
        }
      ],
      "source": [
        "#craete 4D array whose shape \n",
        "arr4=np.array([[[[2,3,4],[5,6,7],[6,7,8],[2,3,4]]]])\n",
        "print(arr4)\n",
        "\n",
        "print('dimension: ',arr4.ndim)  #print(arr4.ndim)\n",
        "print('shape: ',arr4.shape)"
      ]
    },
    {
      "cell_type": "code",
      "execution_count": null,
      "metadata": {
        "id": "8qSZSabfirHR"
      },
      "outputs": [],
      "source": []
    },
    {
      "cell_type": "markdown",
      "metadata": {
        "id": "PBcmM4cimx59"
      },
      "source": [
        "0-Darray 0 square brackets\n",
        "1-d 1 square brack..\n",
        "2-d 2 sqaure brack.         #(start and end)\n",
        "3-d 3 square brack.."
      ]
    },
    {
      "cell_type": "code",
      "execution_count": null,
      "metadata": {
        "colab": {
          "background_save": true,
          "base_uri": "https://localhost:8080/",
          "height": 184
        },
        "id": "19AHCTbQn96f",
        "outputId": "73467072-797e-4776-c0ba-094ebd6814af"
      },
      "outputs": [
        {
          "name": "stdout",
          "output_type": "stream",
          "text": [
            "[[1 2 3 4]]\n"
          ]
        }
      ],
      "source": [
        "arr1 = np.array([1,2,3,4] , ndim=2)\n",
        "print(arr1)"
      ]
    },
    {
      "cell_type": "code",
      "execution_count": null,
      "metadata": {
        "id": "LIwtdwInvq0W",
        "colab": {
          "base_uri": "https://localhost:8080/"
        },
        "outputId": "d108e903-52e4-4f97-f873-c1047491a623"
      },
      "outputs": [
        {
          "output_type": "stream",
          "name": "stdout",
          "text": [
            "[ 6  8 10 12]\n"
          ]
        }
      ],
      "source": [
        "import numpy as np\n",
        "arr1=np.array([1,2,3,4])\n",
        "arr2=np.array([5,6,7,8])\n",
        "arr3=arr1+arr2\n",
        "print(arr3)"
      ]
    },
    {
      "cell_type": "code",
      "source": [
        "arr1=np.array([[1,2,3,4],[1,5,8,9]])\n",
        "arr2=np.array([5,6,7,8])\n",
        "arr3=arr1+arr2\n",
        "print(arr3)"
      ],
      "metadata": {
        "colab": {
          "base_uri": "https://localhost:8080/"
        },
        "id": "tLNJZiFaeOGu",
        "outputId": "520a43bd-677b-46e0-8c1a-743a3cc1f135"
      },
      "execution_count": null,
      "outputs": [
        {
          "output_type": "stream",
          "name": "stdout",
          "text": [
            "[[ 6  8 10 12]\n",
            " [ 6 11 15 17]]\n"
          ]
        }
      ]
    },
    {
      "cell_type": "code",
      "source": [
        "arr1=np.array([[1,2,3,4],[1,5,8,9]])\n",
        "arr2=np.array([[5,6,7,8],[5,7,9,6]])\n",
        "arr3=arr1+arr2\n",
        "print(arr3)"
      ],
      "metadata": {
        "colab": {
          "base_uri": "https://localhost:8080/"
        },
        "id": "n6u7efFPea7T",
        "outputId": "14ff7e8d-debf-4e80-bc87-7c7b7abe7d41"
      },
      "execution_count": null,
      "outputs": [
        {
          "output_type": "stream",
          "name": "stdout",
          "text": [
            "[[ 6  8 10 12]\n",
            " [ 6 12 17 15]]\n"
          ]
        }
      ]
    },
    {
      "cell_type": "code",
      "source": [
        "#prg to create sum of all the items in 1D array\n",
        "\n",
        "arr1=np.array([1,2,3,4])\n",
        "sum=0\n",
        "for i in arr1:\n",
        "  sum+=i\n",
        "print(sum)"
      ],
      "metadata": {
        "colab": {
          "base_uri": "https://localhost:8080/"
        },
        "id": "hX940THheg79",
        "outputId": "27bf6694-e828-4fcc-80de-b09ae6e038dc"
      },
      "execution_count": null,
      "outputs": [
        {
          "output_type": "stream",
          "name": "stdout",
          "text": [
            "10\n"
          ]
        }
      ]
    },
    {
      "cell_type": "code",
      "source": [
        "#accessing elements of 2D array\n",
        "\n",
        "arr1=np.array([[1,2,3],[3,4,5]])\n",
        "print(arr1[1][-2])\n",
        "print(arr1[1,1:3])\n",
        "print(arr1[0:2,0:2])"
      ],
      "metadata": {
        "colab": {
          "base_uri": "https://localhost:8080/"
        },
        "id": "mC70_hexemCS",
        "outputId": "9fa189c4-1e89-4252-cc09-7047f040329c"
      },
      "execution_count": null,
      "outputs": [
        {
          "output_type": "stream",
          "name": "stdout",
          "text": [
            "4\n",
            "[4 5]\n",
            "[[1 2]\n",
            " [3 4]]\n"
          ]
        }
      ]
    },
    {
      "cell_type": "code",
      "source": [
        "#accessing 3D array\n",
        "\n",
        "arr3=np.array([[[1,2,3],[3,4,5]],[[5,6,7],[7,8,9]]])    #shape (2,2,3) 2-dimension, 2- how many blocks are there in in [], 3-elements in array\n",
        "print(arr3)\n",
        "print('shape: ',arr3.shape)\n",
        "print(arr3[1][1][2])\n",
        "print(arr3[0,1,0:2])\n",
        "print(arr3[1,0,1])\n",
        "print(arr3[0:2,1:2,0:2])"
      ],
      "metadata": {
        "colab": {
          "base_uri": "https://localhost:8080/"
        },
        "id": "Ksn5qcdnep8-",
        "outputId": "b01ca0de-20fb-4ce1-8faf-93e7b84c6451"
      },
      "execution_count": null,
      "outputs": [
        {
          "output_type": "stream",
          "name": "stdout",
          "text": [
            "[[[1 2 3]\n",
            "  [3 4 5]]\n",
            "\n",
            " [[5 6 7]\n",
            "  [7 8 9]]]\n",
            "shape:  (2, 2, 3)\n",
            "9\n",
            "[3 4]\n",
            "6\n",
            "[[[3 4]]\n",
            "\n",
            " [[7 8]]]\n"
          ]
        }
      ]
    },
    {
      "cell_type": "code",
      "source": [
        "#print scalar values or 0-d array elements\n",
        "arr1 = np.array([[1,2,3],[4,5,6]])\n",
        "\n",
        "for x in arr1:\n",
        "  for y in x:  # to order in array in one by one in line \n",
        "    print(y,end=' ')"
      ],
      "metadata": {
        "id": "B5NeBhkQeuGR",
        "colab": {
          "base_uri": "https://localhost:8080/"
        },
        "outputId": "f0eabf2e-cf64-491e-edd1-26546ea1b062"
      },
      "execution_count": null,
      "outputs": [
        {
          "output_type": "stream",
          "name": "stdout",
          "text": [
            "1 2 3 4 5 6 "
          ]
        }
      ]
    },
    {
      "cell_type": "code",
      "source": [
        "for i in range(10):\n",
        "  print(i)"
      ],
      "metadata": {
        "colab": {
          "base_uri": "https://localhost:8080/"
        },
        "id": "abgmN_htgsrA",
        "outputId": "85324791-8813-46b9-9cf6-1055d0e4e438"
      },
      "execution_count": null,
      "outputs": [
        {
          "output_type": "stream",
          "name": "stdout",
          "text": [
            "0\n",
            "1\n",
            "2\n",
            "3\n",
            "4\n",
            "5\n",
            "6\n",
            "7\n",
            "8\n",
            "9\n"
          ]
        }
      ]
    },
    {
      "cell_type": "code",
      "source": [
        "#print scalar values or 0-d array elements of 3d numpy array\n",
        "\n",
        "arr1 = np.array([[[1,2,3],[3,4,5],[4,5,6]]])\n",
        "print('shape: ',arr1.shape)\n",
        "for x in arr1:\n",
        "  for y in x:\n",
        "    for i in y:\n",
        "     print(i,end=' ')\n",
        "     #print('shape: ',arr1.shape)"
      ],
      "metadata": {
        "colab": {
          "base_uri": "https://localhost:8080/"
        },
        "id": "GnI8v_njjWGQ",
        "outputId": "cbc59a3e-a295-4f23-b405-0760dc30f0f9"
      },
      "execution_count": null,
      "outputs": [
        {
          "output_type": "stream",
          "name": "stdout",
          "text": [
            "shape:  (1, 3, 3)\n",
            "1 2 3 3 4 5 4 5 6 "
          ]
        }
      ]
    },
    {
      "cell_type": "code",
      "source": [
        "#nditer()\n",
        "arr1 = np.array([[[1,2,3],[3,4,5],[4,5,6]],[[7,78,9],[6,7,8],[9,0,4]]])\n",
        "for x in np.nditer(arr1):  # iteration\n",
        "  print(x,end=' ')"
      ],
      "metadata": {
        "colab": {
          "base_uri": "https://localhost:8080/"
        },
        "id": "G0PZlZZ6kpe-",
        "outputId": "1eb66758-f4ea-4694-8ead-5f1161868d8b"
      },
      "execution_count": null,
      "outputs": [
        {
          "output_type": "stream",
          "name": "stdout",
          "text": [
            "1 2 3 3 4 5 4 5 6 7 78 9 6 7 8 9 0 4 "
          ]
        }
      ]
    },
    {
      "cell_type": "code",
      "source": [
        "#populate arrays with sequence of numbers: \n",
        "#arange()\n",
        "\n",
        "arr1=np.arange(5,12)\n",
        "print(arr1)\n",
        "print(arr1.ndim)\n",
        "print(arr1.shape)"
      ],
      "metadata": {
        "colab": {
          "base_uri": "https://localhost:8080/"
        },
        "id": "4k3LhpAHqv7w",
        "outputId": "2d719334-22a5-4610-fd35-fc53350ca76b"
      },
      "execution_count": null,
      "outputs": [
        {
          "output_type": "stream",
          "name": "stdout",
          "text": [
            "[ 5  6  7  8  9 10 11]\n",
            "1\n",
            "(7,)\n"
          ]
        }
      ]
    },
    {
      "cell_type": "code",
      "source": [
        "arr1=np.arange(5,12,2) # 2 skips(add)\n",
        "print(arr1)\n",
        "print(arr1.ndim)\n",
        "print(arr1.shape)"
      ],
      "metadata": {
        "colab": {
          "base_uri": "https://localhost:8080/"
        },
        "id": "s4JNpkifrI1K",
        "outputId": "357d3806-248f-4903-e01d-04b00d19007e"
      },
      "execution_count": null,
      "outputs": [
        {
          "output_type": "stream",
          "name": "stdout",
          "text": [
            "[ 5  7  9 11]\n",
            "1\n",
            "(4,)\n"
          ]
        }
      ]
    },
    {
      "cell_type": "code",
      "source": [
        "#pop[ulate array with random numbers\n",
        "#np.random.randint(low,high,size)\n",
        "\n",
        "arr1 = np.random.randint(low=10, high=20,size=(7))\n",
        "print(arr1)\n",
        "\n"
      ],
      "metadata": {
        "colab": {
          "base_uri": "https://localhost:8080/"
        },
        "id": "WB5DObvJrlEY",
        "outputId": "e269eeb7-d8f8-4a9b-d203-db8ae0d1ed87"
      },
      "execution_count": null,
      "outputs": [
        {
          "output_type": "stream",
          "name": "stdout",
          "text": [
            "[17 10 12 17 19 14 13]\n"
          ]
        }
      ]
    },
    {
      "cell_type": "code",
      "source": [
        "arr1 = np.random.randint(low=10, high=20,size=(5,2,3)) #rows and col\n",
        "print(arr1)"
      ],
      "metadata": {
        "colab": {
          "base_uri": "https://localhost:8080/"
        },
        "id": "0RufhWXAsVfl",
        "outputId": "255831c0-83c6-4fff-87f0-0d6c17dabf00"
      },
      "execution_count": null,
      "outputs": [
        {
          "output_type": "stream",
          "name": "stdout",
          "text": [
            "[[[10 16 13]\n",
            "  [18 17 13]]\n",
            "\n",
            " [[13 17 17]\n",
            "  [15 18 12]]\n",
            "\n",
            " [[16 17 14]\n",
            "  [10 10 12]]\n",
            "\n",
            " [[18 10 11]\n",
            "  [17 12 11]]\n",
            "\n",
            " [[18 19 19]\n",
            "  [11 13 13]]]\n"
          ]
        }
      ]
    },
    {
      "cell_type": "code",
      "source": [
        "#broadcasting : \n",
        "#2=[[2,2,2],[2,2,2]]=arr1\n",
        "arr1 = np.array([[2,3,4],[4,5,6]]) # it add 2 for every elements\n",
        "print(arr1 + 2)\n",
        "print(arr1*2)"
      ],
      "metadata": {
        "colab": {
          "base_uri": "https://localhost:8080/"
        },
        "id": "jOduYX-dsrSB",
        "outputId": "c3a5f1f7-c929-45ec-fa25-386de844638b"
      },
      "execution_count": null,
      "outputs": [
        {
          "output_type": "stream",
          "name": "stdout",
          "text": [
            "[[4 5 6]\n",
            " [6 7 8]]\n",
            "[[ 4  6  8]\n",
            " [ 8 10 12]]\n"
          ]
        }
      ]
    },
    {
      "cell_type": "code",
      "source": [
        "#create a linear dataset\n",
        "#create a simple dataset consisiting of a single feature and a label as follows:\n",
        "#1. assign a sequence of integers frm 6 to 20(inclucive) to a numpy array named faeture\n",
        "#2.assign 15 values to numpy array named label such that\n",
        "\n",
        "#label = (3)(faeture) +a\n",
        "# for example the first value for label should be:\n",
        "#label =(3)(6) + 4 =22\n",
        "\n",
        "feature = np.arange(6,21)\n",
        "label =3*feature+4\n",
        "print(feature)\n",
        "print(label)\n"
      ],
      "metadata": {
        "colab": {
          "base_uri": "https://localhost:8080/"
        },
        "id": "m8mEB__VwPtd",
        "outputId": "2bf96495-9fe2-4e87-b384-46fdac401786"
      },
      "execution_count": null,
      "outputs": [
        {
          "output_type": "stream",
          "name": "stdout",
          "text": [
            "[ 6  7  8  9 10 11 12 13 14 15 16 17 18 19 20]\n",
            "[22 25 28 31 34 37 40 43 46 49 52 55 58 61 64]\n"
          ]
        }
      ]
    },
    {
      "cell_type": "code",
      "source": [],
      "metadata": {
        "id": "LWP7H8W9y2Zb"
      },
      "execution_count": null,
      "outputs": []
    }
  ],
  "metadata": {
    "colab": {
      "provenance": [],
      "authorship_tag": "ABX9TyM4td1mQnyzdyC6z03LAD0t",
      "include_colab_link": true
    },
    "kernelspec": {
      "display_name": "Python 3",
      "name": "python3"
    },
    "language_info": {
      "name": "python"
    }
  },
  "nbformat": 4,
  "nbformat_minor": 0
}